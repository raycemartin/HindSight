{
 "cells": [
  {
   "cell_type": "code",
   "execution_count": 3,
   "id": "3461c558-d1e9-4188-98cc-4a22f79e2874",
   "metadata": {},
   "outputs": [
    {
     "name": "stdout",
     "output_type": "stream",
     "text": [
      "Jupyter environment detected. Enabling Open3D WebVisualizer.\n",
      "[Open3D INFO] WebRTC GUI backend enabled.\n",
      "[Open3D INFO] WebRTCWindowSystem: HTTP handshake server disabled.\n"
     ]
    }
   ],
   "source": [
    "import numpy as np\n",
    "import cv2\n",
    "import matplotlib.pyplot as plt\n",
    "from mpl_toolkits.mplot3d import Axes3D\n",
    "import open3d as o3d\n",
    "import os"
   ]
  },
  {
   "cell_type": "code",
   "execution_count": 20,
   "id": "8e095fe4-f17c-4311-83a6-fceaa3ace04c",
   "metadata": {},
   "outputs": [],
   "source": [
    "class Camera:\n",
    "    \"\"\"\n",
    "    Camera class for simulating each camera in a scanning setup.\n",
    "    \"\"\"\n",
    "    def __init__(self, width, height, f, pixel_size):\n",
    "        self.width = width              # width of the camera sensor in mm\n",
    "        self.height = height            # height of the camera sensor in mm\n",
    "        self.aspect = width/height\n",
    "        self.pixel_size = pixel_size\n",
    "        self.f = f                      # focal length of the camera lens\n",
    "        self.K = np.array([[f, 0, width/2],\n",
    "                           [0, f, height/2],\n",
    "                           [0, 0, 1]])\n",
    "        self.matrix = np.array([0,0,0])\n",
    "\n",
    "    def capture(self, pose: list):\n",
    "        \"\"\"\n",
    "        pose: [x_pos, y_pos, z_pos, roll_deg, pitch_deg, yaw_deg] \n",
    "        \"\"\"\n",
    "        # Extrinsic parameters (rotation and translation)     \n",
    "        R = rotation_matrix_from_euler(pose[3], pose[4], pose[5])   # Identity rotation (camera aligned with world axes)\n",
    "        t = np.array([pose[0], pose[1], pose[2]])  # Camera positioned 5 units away along the Z-axis\n",
    "        \n",
    "        # Combine extrinsics into 3x4 matrix\n",
    "        Rt = np.hstack((R, t))\n",
    "               \n",
    "        # Projection matrix: P = K [R | t]\n",
    "        P = self.K @ Rt\n",
    "        \n",
    "        # Project the point\n",
    "        X_image = P @ X_world\n",
    "        \n",
    "        # Perspective division to get pixel coordinates\n",
    "        x_pixel = X_image[0, 0] / X_image[2, 0]\n",
    "        y_pixel = X_image[1, 0] / X_image[2, 0]\n",
    "        \n",
    "        print(f\"Projected pixel coordinates: ({x_pixel:.2f}, {y_pixel:.2f})\")\n",
    "        return img\n",
    "\n",
    "    def camera_pyramid(self):\n",
    "        # this is the pyramid shape that is often used to represent a camera and its pose\n",
    "        # recommend changing the z-distance to be focal lenght and the x,y to be sensor height and width\n",
    "        pyramid = np.array([[self.coordinate[0], self.coordinate[1], self.coordinate[2]],\n",
    "                            [self.coordinate[0]-4,self.coordinate[1]+3,self.coordinate[2] + 10],\n",
    "                            [self.coordinate[0]+4,self.coordinate[1]+3,self.coordinate[2] + 10],\n",
    "                            [self.coordinate[0]+4,self.coordinate[1]-3,self.coordinate[2] + 10],\n",
    "                            [self.coordinate[0]-4,self.coordinate[1]-3,self.coordinate[2] + 10]])\n",
    "        return pyramid\n",
    "   \n",
    "    def rotation_matrix_from_euler(roll_deg, pitch_deg, yaw_deg):\n",
    "        # Convert degrees to radians\n",
    "        roll = np.radians(roll_deg)\n",
    "        pitch = np.radians(pitch_deg)\n",
    "        yaw = np.radians(yaw_deg)\n",
    "    \n",
    "        # Rotation around X-axis (Roll)\n",
    "        R_x = np.array([[1, 0, 0],\n",
    "                        [0, np.cos(roll), -np.sin(roll)],\n",
    "                        [0, np.sin(roll),  np.cos(roll)]])\n",
    "    \n",
    "        # Rotation around Y-axis (Pitch)\n",
    "        R_y = np.array([[np.cos(pitch), 0, np.sin(pitch)],\n",
    "                        [0, 1, 0],\n",
    "                        [-np.sin(pitch), 0, np.cos(pitch)]])\n",
    "    \n",
    "        # Rotation around Z-axis (Yaw)\n",
    "        R_z = np.array([[np.cos(yaw), -np.sin(yaw), 0],\n",
    "                        [np.sin(yaw),  np.cos(yaw), 0],\n",
    "                        [0, 0, 1]])\n",
    "    \n",
    "        # Combined rotation: R = Rz * Ry * Rx\n",
    "        R = R_z @ R_y @ R_x\n",
    "        return R\n"
   ]
  },
  {
   "cell_type": "code",
   "execution_count": 21,
   "id": "fc177083-778d-41e5-8030-ee60c44fd5d6",
   "metadata": {},
   "outputs": [],
   "source": [
    "class Object:\n",
    "    \"\"\"\n",
    "    Object class to define the object to be scanned. The object is positioned at the origin of the world coordinates\n",
    "    thus the camera moves about the object. \n",
    "    \"\"\"\n",
    "    def __init__(self,filename: str):\n",
    "        if not isinstance(filename, str):\n",
    "            raise TypeError(\"The filename must be a string.\")\n",
    "\n",
    "        self.mesh = o3d.io.read_triangle_mesh(filename)\n",
    "\n",
    "        # Check if the mesh is loaded correctly\n",
    "        if not self.mesh.is_empty():\n",
    "            print(\"STL file loaded successfully!\")\n",
    "        else:\n",
    "            print(\"Failed to load STL file.\")\n",
    "\n",
    "        self.pcd = self.mesh.sample_points_uniformly(number_of_points=10000)  # Adjust the number of points as needed\n",
    "        self.pcd.estimate_normals(search_param=o3d.geometry.KDTreeSearchParamKNN(knn=30))\n",
    "\n",
    "\n",
    "    def visualize(self):\n",
    "        # Compute vertex normals for better visualization\n",
    "        self.mesh.compute_vertex_normals()\n",
    "\n",
    "        # Visualize the 3D mesh\n",
    "        o3d.visualization.draw_geometries([self.mesh])"
   ]
  },
  {
   "cell_type": "code",
   "execution_count": 23,
   "id": "8c145de2-150b-422a-83b5-cfa610183d48",
   "metadata": {},
   "outputs": [],
   "source": [
    "class Laser:\n",
    "    \"\"\"\n",
    "    A laser illumination source that projects a grid of dots on the object. \n",
    "\n",
    "    pose: [x_pos, y_pos, z_pos, roll_deg, pitch_deg, yaw_deg] \n",
    "    \"\"\"\n",
    "    def __init__(self, pose: list, line: bool):\n",
    "        self.pos = np.array(pose)\n",
    "\n",
    "        if line:\n",
    "            self.type = \"grid\"\n",
    "        else: \n",
    "            self.type = \"line\"\n",
    "\n",
    "    def setup_grid(self, grid_size: int, dot_diameter: float, spacing: float):\n",
    "        if not self.type == \"grid\":\n",
    "            raise PermissionError(\"This method is only available for grid type lasers.\")\n",
    "        self.grid_size = no.array([size,size])\n",
    "        self.dot_diameter = dot_diameter #mm\n",
    "        \"\"\"Creates a uniform grid of laser points.\"\"\"\n",
    "        x = np.linspace(-grid_size, grid_size, spacing)\n",
    "        y = np.linspace(-grid_size, grid_size, spacing)\n",
    "        xv, yv = np.meshgrid(x, y)\n",
    "        laser_points = np.column_stack([xv.ravel(), yv.ravel(), np.zeros_like(xv.ravel())])\n",
    "        return laser_points\n",
    "    \n",
    "    def setup_line(self, width: float):\n",
    "        if not self.type == \"line\":\n",
    "            raise PermissionError(\"This method is only available for line type lasers.\")\n",
    "        self.width = width\n",
    "\n",
    "    def cast_rays(self):\n",
    "        pass\n",
    "        "
   ]
  },
  {
   "cell_type": "code",
   "execution_count": 17,
   "id": "c7bd65eb-b71d-41c6-bc8f-b796644cfea4",
   "metadata": {},
   "outputs": [
    {
     "name": "stdout",
     "output_type": "stream",
     "text": [
      "STL file loaded successfully!\n"
     ]
    }
   ],
   "source": [
    "\"\"\" \n",
    "Setup code block\n",
    "\"\"\"\n",
    "\n",
    "# import object\n",
    "duck_file = os.path.abspath(\"../../docs/Rubber_Duck.stl\")\n",
    "duck = Object(duck_file)\n",
    "\n",
    "# create cameras\n",
    "Lcam = Camera(2560,960, 2.43)\n",
    "Rcam = Camera(2560,960, 2.43)\n",
    "\n"
   ]
  },
  {
   "cell_type": "code",
   "execution_count": 9,
   "id": "5ed90cde-9687-4266-9261-11ffe6ecc02b",
   "metadata": {},
   "outputs": [
    {
     "data": {
      "text/plain": [
       "'\\nScanning code block\\n'"
      ]
     },
     "execution_count": 9,
     "metadata": {},
     "output_type": "execute_result"
    }
   ],
   "source": [
    "\"\"\"\n",
    "Scanning code block\n",
    "\"\"\"\n"
   ]
  },
  {
   "cell_type": "code",
   "execution_count": 10,
   "id": "091ce37d-85fe-4769-b09f-ad4d90f76b93",
   "metadata": {},
   "outputs": [
    {
     "data": {
      "text/plain": [
       "'\\nImage Processing code block\\n'"
      ]
     },
     "execution_count": 10,
     "metadata": {},
     "output_type": "execute_result"
    }
   ],
   "source": [
    "\"\"\"\n",
    "Image Processing code block\n",
    "\"\"\""
   ]
  },
  {
   "cell_type": "code",
   "execution_count": 11,
   "id": "fba2f342-fe3f-4e67-9ea1-7c08559cb313",
   "metadata": {},
   "outputs": [
    {
     "data": {
      "text/plain": [
       "'\\nModel Creation code block\\n'"
      ]
     },
     "execution_count": 11,
     "metadata": {},
     "output_type": "execute_result"
    }
   ],
   "source": [
    "\"\"\"\n",
    "Model Creation code block\n",
    "\"\"\""
   ]
  },
  {
   "cell_type": "code",
   "execution_count": 19,
   "id": "81db9c92-34b7-4691-a342-867464e715be",
   "metadata": {},
   "outputs": [],
   "source": [
    "duck.visualize()\n"
   ]
  },
  {
   "cell_type": "code",
   "execution_count": null,
   "id": "6d06439b-d3a2-4d33-825c-4099d386e624",
   "metadata": {},
   "outputs": [],
   "source": []
  }
 ],
 "metadata": {
  "kernelspec": {
   "display_name": "Python 3 (ipykernel)",
   "language": "python",
   "name": "python3"
  },
  "language_info": {
   "codemirror_mode": {
    "name": "ipython",
    "version": 3
   },
   "file_extension": ".py",
   "mimetype": "text/x-python",
   "name": "python",
   "nbconvert_exporter": "python",
   "pygments_lexer": "ipython3",
   "version": "3.12.5"
  }
 },
 "nbformat": 4,
 "nbformat_minor": 5
}
