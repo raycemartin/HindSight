{
 "cells": [
  {
   "cell_type": "code",
   "execution_count": 10,
   "id": "3461c558-d1e9-4188-98cc-4a22f79e2874",
   "metadata": {},
   "outputs": [],
   "source": [
    "import numpy as np\n",
    "import cv2\n",
    "import matplotlib.pyplot as plt\n",
    "from mpl_toolkits.mplot3d import Axes3D\n",
    "import open3d as o3d\n",
    "import os"
   ]
  },
  {
   "cell_type": "code",
   "execution_count": 25,
   "id": "8e095fe4-f17c-4311-83a6-fceaa3ace04c",
   "metadata": {},
   "outputs": [],
   "source": [
    "class Camera:\n",
    "    \"\"\"\n",
    "    Camera class for simulating each camera in a scanning setup.\n",
    "    \"\"\"\n",
    "    def __init__(self, width, height, f):\n",
    "        self.width = width              # width of the camera sensor in mm\n",
    "        self.height = height            # height of the camera sensor in mm\n",
    "        self.aspect = width/height\n",
    "        self.f = f                      # focal length of the camera lens\n",
    "        self.K = np.array([[f, 0, width/2],\n",
    "                           [0, f, height/2],\n",
    "                           [0, 0, 1]])\n",
    "        self.matrix = np.array([0,0,0])\n",
    "\n",
    "    def capture(self, pose: list):\n",
    "        \"\"\"\n",
    "        pose: [x_pos, y_pos, z_pos, roll_deg, pitch_deg, yaw_deg] \n",
    "        \"\"\"\n",
    "        # Extrinsic parameters (rotation and translation)     \n",
    "        R = rotation_matrix_from_euler(pose[3], pose[4], pose[5])   # Identity rotation (camera aligned with world axes)\n",
    "        t = np.array([pose[0], pose[1], pose[2]])  # Camera positioned 5 units away along the Z-axis\n",
    "        \n",
    "        # Combine extrinsics into 3x4 matrix\n",
    "        Rt = np.hstack((R, t))\n",
    "               \n",
    "        # Projection matrix: P = K [R | t]\n",
    "        P = self.K @ Rt\n",
    "        \n",
    "        # Project the point\n",
    "        X_image = P @ X_world\n",
    "        \n",
    "        # Perspective division to get pixel coordinates\n",
    "        x_pixel = X_image[0, 0] / X_image[2, 0]\n",
    "        y_pixel = X_image[1, 0] / X_image[2, 0]\n",
    "        \n",
    "        print(f\"Projected pixel coordinates: ({x_pixel:.2f}, {y_pixel:.2f})\")\n",
    "        return img\n",
    "\n",
    "    def camera_pyramid(self):\n",
    "        # this is the pyramid shape that is often used to represent a camera and its pose\n",
    "        # recommend changing the z-distance to be focal lenght and the x,y to be sensor height and width\n",
    "        pyramid = np.array([[self.coordinate[0], self.coordinate[1], self.coordinate[2]],\n",
    "                            [self.coordinate[0]-4,self.coordinate[1]+3,self.coordinate[2] + 10],\n",
    "                            [self.coordinate[0]+4,self.coordinate[1]+3,self.coordinate[2] + 10],\n",
    "                            [self.coordinate[0]+4,self.coordinate[1]-3,self.coordinate[2] + 10],\n",
    "                            [self.coordinate[0]-4,self.coordinate[1]-3,self.coordinate[2] + 10]])\n",
    "        return pyramid\n",
    "   \n",
    "    def rotation_matrix_from_euler(roll_deg, pitch_deg, yaw_deg):\n",
    "        # Convert degrees to radians\n",
    "        roll = np.radians(roll_deg)\n",
    "        pitch = np.radians(pitch_deg)\n",
    "        yaw = np.radians(yaw_deg)\n",
    "    \n",
    "        # Rotation around X-axis (Roll)\n",
    "        R_x = np.array([[1, 0, 0],\n",
    "                        [0, np.cos(roll), -np.sin(roll)],\n",
    "                        [0, np.sin(roll),  np.cos(roll)]])\n",
    "    \n",
    "        # Rotation around Y-axis (Pitch)\n",
    "        R_y = np.array([[np.cos(pitch), 0, np.sin(pitch)],\n",
    "                        [0, 1, 0],\n",
    "                        [-np.sin(pitch), 0, np.cos(pitch)]])\n",
    "    \n",
    "        # Rotation around Z-axis (Yaw)\n",
    "        R_z = np.array([[np.cos(yaw), -np.sin(yaw), 0],\n",
    "                        [np.sin(yaw),  np.cos(yaw), 0],\n",
    "                        [0, 0, 1]])\n",
    "    \n",
    "        # Combined rotation: R = Rz * Ry * Rx\n",
    "        R = R_z @ R_y @ R_x\n",
    "        return R\n"
   ]
  },
  {
   "cell_type": "code",
   "execution_count": 23,
   "id": "fc177083-778d-41e5-8030-ee60c44fd5d6",
   "metadata": {},
   "outputs": [],
   "source": [
    "class Object:\n",
    "    \"\"\"\n",
    "    Object class to define the object to be scanned. The object is positioned at the origin of the world coordinates\n",
    "    thus the camera moves about the object. \n",
    "    \"\"\"\n",
    "    def __init__(self,filename: str):\n",
    "        if not isinstance(filename, str):\n",
    "            raise TypeError(\"The filename must be a string.\")\n",
    "\n",
    "        self.mesh = o3d.io.read_triangle_mesh(filename)\n",
    "\n",
    "        # Check if the mesh is loaded correctly\n",
    "        if not self.mesh.is_empty():\n",
    "            print(\"STL file loaded successfully!\")\n",
    "        else:\n",
    "            print(\"Failed to load STL file.\")\n",
    "\n",
    "        self.pcd = self.mesh.sample_points_uniformly(number_of_points=10000)  # Adjust the number of points as needed\n",
    "        self.pcd.estimate_normals(search_param=o3d.geometry.KDTreeSearchParamKNN(knn=30))\n",
    "\n",
    "\n",
    "    def visualize(self):\n",
    "        # Compute vertex normals for better visualization\n",
    "        self.mesh.compute_vertex_normals()\n",
    "\n",
    "        # Visualize the 3D mesh\n",
    "        o3d.visualization.draw_geometries([self.mesh])"
   ]
  },
  {
   "cell_type": "code",
   "execution_count": 27,
   "id": "8c145de2-150b-422a-83b5-cfa610183d48",
   "metadata": {},
   "outputs": [],
   "source": [
    "class Laser:\n",
    "    \"\"\"\n",
    "    A laser illumination source that projects a grid of dots on the object. \n",
    "    \"\"\"\n",
    "    def __init__(self, pose: list, line: bool):\n",
    "        self.pos = pose\n",
    "        \n",
    "        if line:\n",
    "            pass\n",
    "        else:\n",
    "            pass\n",
    "\n",
    "    def project_grid(u, v, theta):\n",
    "        self.grid_size = no.array([u,v])\n",
    "        self.cone_angle = theta\n",
    "        self.dot_diameter = 1 #mm\n",
    "        "
   ]
  },
  {
   "cell_type": "code",
   "execution_count": 26,
   "id": "c038c5f4-f6e4-407c-ae53-10aae7ff366c",
   "metadata": {},
   "outputs": [
    {
     "name": "stdout",
     "output_type": "stream",
     "text": [
      "[[ 0.88671834 -0.45980212  0.04808953]\n",
      " [ 0.87076847  0.45417039  0.18839195]\n",
      " [ 0.67106354 -0.46950759 -0.57379121]\n",
      " ...\n",
      " [-0.18959016  0.04721833  0.98072728]\n",
      " [-0.10883354 -0.98693046  0.11884245]\n",
      " [ 0.31151757  0.0381693   0.94947349]]\n"
     ]
    }
   ],
   "source": [
    "\n",
    "print(np.asarray(duck.pcd.normals))\n",
    "#pc = np.asarray(duck.to_point_cloud().points)\n",
    "\n",
    "#print(type(pc))\n",
    "\n"
   ]
  },
  {
   "cell_type": "code",
   "execution_count": 13,
   "id": "82f989a6-7d89-4a4f-ad00-a4eb7004e4eb",
   "metadata": {},
   "outputs": [
    {
     "name": "stdout",
     "output_type": "stream",
     "text": [
      "[[ 12.08885101 -30.04470894  65.16532751]\n",
      " [ -9.80444415 -28.41194952  41.24189038]\n",
      " [-27.61553121 -24.00443845  17.90842196]\n",
      " ...\n",
      " [ -4.93308091  18.50010874  26.06846538]\n",
      " [ 31.60992983  -8.42153883  14.9381101 ]\n",
      " [-18.36450211 -27.09885617 -20.63878364]]\n"
     ]
    }
   ],
   "source": [
    "print(pc)"
   ]
  },
  {
   "cell_type": "code",
   "execution_count": null,
   "id": "c7bd65eb-b71d-41c6-bc8f-b796644cfea4",
   "metadata": {},
   "outputs": [],
   "source": [
    "\"\"\" \n",
    "Main code block\n",
    "\"\"\"\n",
    "\n",
    "# import object\n",
    "duck_file = os.path.abspath(\"../../docs/Rubber_Duck.stl\")\n",
    "duck = Object(duck_file, [0,0,500], [0,0,0])\n",
    "\n",
    "# create cameras\n",
    "Lcam = Camera(2560,960, 2.43)\n",
    "Rcam = Camera(2560,960, 2.43)\n",
    "\n"
   ]
  }
 ],
 "metadata": {
  "kernelspec": {
   "display_name": "Python 3 (ipykernel)",
   "language": "python",
   "name": "python3"
  },
  "language_info": {
   "codemirror_mode": {
    "name": "ipython",
    "version": 3
   },
   "file_extension": ".py",
   "mimetype": "text/x-python",
   "name": "python",
   "nbconvert_exporter": "python",
   "pygments_lexer": "ipython3",
   "version": "3.12.5"
  }
 },
 "nbformat": 4,
 "nbformat_minor": 5
}
