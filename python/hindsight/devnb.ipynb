{
 "cells": [
  {
   "cell_type": "code",
   "execution_count": 27,
   "id": "3461c558-d1e9-4188-98cc-4a22f79e2874",
   "metadata": {},
   "outputs": [],
   "source": [
    "import numpy as np\n",
    "import cv2\n",
    "import matplotlib.pyplot as plt\n",
    "from mpl_toolkits.mplot3d import Axes3D\n",
    "import open3d as o3d\n",
    "import os"
   ]
  },
  {
   "cell_type": "code",
   "execution_count": 38,
   "id": "08f5983c-1ca4-400a-b2a3-a8f46c1c738a",
   "metadata": {},
   "outputs": [],
   "source": [
    "def rotation_matrix_from_euler(roll_deg, pitch_deg, yaw_deg):\n",
    "    # Convert degrees to radians\n",
    "    roll = np.radians(roll_deg)\n",
    "    pitch = np.radians(pitch_deg)\n",
    "    yaw = np.radians(yaw_deg)\n",
    "    \n",
    "        # Rotation around X-axis (Roll)\n",
    "    R_x = np.array([[1, 0, 0],\n",
    "                    [0, np.cos(roll), -np.sin(roll)],\n",
    "                    [0, np.sin(roll),  np.cos(roll)]])\n",
    "    \n",
    "        # Rotation around Y-axis (Pitch)\n",
    "    R_y = np.array([[np.cos(pitch), 0, np.sin(pitch)],\n",
    "                    [0, 1, 0],\n",
    "                    [-np.sin(pitch), 0, np.cos(pitch)]])\n",
    "    \n",
    "        # Rotation around Z-axis (Yaw)\n",
    "    R_z = np.array([[np.cos(yaw), -np.sin(yaw), 0],\n",
    "                    [np.sin(yaw),  np.cos(yaw), 0],\n",
    "                    [0, 0, 1]])\n",
    "    # Combined rotation: R = Rz * Ry * Rx\n",
    "    R = R_z @ R_y @ R_x\n",
    "    return R\n",
    "\n",
    "def translation_matrix(x_shift, y_shift, z_shift):\n",
    "    T = np.array([\n",
    "        [1, 0, 0, x_shift],\n",
    "        [0, 1, 0, y_shift],\n",
    "        [0, 0, 1, z_shift],\n",
    "        [0, 0, 0, 1]\n",
    "        ])"
   ]
  },
  {
   "cell_type": "code",
   "execution_count": 35,
   "id": "8e095fe4-f17c-4311-83a6-fceaa3ace04c",
   "metadata": {},
   "outputs": [],
   "source": [
    "class Camera:\n",
    "    \"\"\"\n",
    "    Camera class for simulating each camera in a scanning setup.\n",
    "    \"\"\"\n",
    "    def __init__(self, width, height, f, pixel_size):\n",
    "        self.width = width              # width of the camera sensor in mm\n",
    "        self.height = height            # height of the camera sensor in mm\n",
    "        self.aspect = width/height\n",
    "        self.pixel_size = pixel_size\n",
    "        self.f = f                      # focal length of the camera lens\n",
    "        self.K = np.array([[f, 0, width/2],\n",
    "                           [0, f, height/2],\n",
    "                           [0, 0, 1]])\n",
    "        self.matrix = np.array([0,0,0])\n",
    "\n",
    "    def capture(self, pose: list):\n",
    "        \"\"\"\n",
    "        pose: [x_pos, y_pos, z_pos, roll_deg, pitch_deg, yaw_deg] \n",
    "        \"\"\"\n",
    "        # Extrinsic parameters (rotation and translation)     \n",
    "        R = rotation_matrix_from_euler(pose[3], pose[4], pose[5])   # Identity rotation (camera aligned with world axes)\n",
    "        t = np.array([pose[0], pose[1], pose[2]])  # Camera positioned 5 units away along the Z-axis\n",
    "        \n",
    "        # Combine extrinsics into 3x4 matrix\n",
    "        Rt = np.hstack((R, t))\n",
    "               \n",
    "        # Projection matrix: P = K [R | t]\n",
    "        P = self.K @ Rt\n",
    "        \n",
    "        # Project the point\n",
    "        X_image = P @ X_world\n",
    "        \n",
    "        # Perspective division to get pixel coordinates\n",
    "        x_pixel = X_image[0, 0] / X_image[2, 0]\n",
    "        y_pixel = X_image[1, 0] / X_image[2, 0]\n",
    "        \n",
    "        print(f\"Projected pixel coordinates: ({x_pixel:.2f}, {y_pixel:.2f})\")\n",
    "        return img\n",
    "\n",
    "    def camera_pyramid(self):\n",
    "        # this is the pyramid shape that is often used to represent a camera and its pose\n",
    "        # recommend changing the z-distance to be focal lenght and the x,y to be sensor height and width\n",
    "        pyramid = np.array([[self.coordinate[0], self.coordinate[1], self.coordinate[2]],\n",
    "                            [self.coordinate[0]-4,self.coordinate[1]+3,self.coordinate[2] + 10],\n",
    "                            [self.coordinate[0]+4,self.coordinate[1]+3,self.coordinate[2] + 10],\n",
    "                            [self.coordinate[0]+4,self.coordinate[1]-3,self.coordinate[2] + 10],\n",
    "                            [self.coordinate[0]-4,self.coordinate[1]-3,self.coordinate[2] + 10]])\n",
    "        return pyramid\n",
    "   \n",
    "\n"
   ]
  },
  {
   "cell_type": "code",
   "execution_count": 36,
   "id": "fc177083-778d-41e5-8030-ee60c44fd5d6",
   "metadata": {},
   "outputs": [],
   "source": [
    "class Object:\n",
    "    \"\"\"\n",
    "    Object class to define the object to be scanned. The object is positioned at the origin of the world coordinates\n",
    "    thus the camera moves about the object. \n",
    "    \"\"\"\n",
    "    def __init__(self,filename: str):\n",
    "        if not isinstance(filename, str):\n",
    "            raise TypeError(\"The filename must be a string.\")\n",
    "\n",
    "        self.mesh = o3d.io.read_triangle_mesh(filename)\n",
    "\n",
    "        # Check if the mesh is loaded correctly\n",
    "        if not self.mesh.is_empty():\n",
    "            print(\"STL file loaded successfully!\")\n",
    "        else:\n",
    "            print(\"Failed to load STL file.\")\n",
    "\n",
    "        self.pcd = self.mesh.sample_points_uniformly(number_of_points=10000)  # Adjust the number of points as needed\n",
    "        self.pcd.estimate_normals(search_param=o3d.geometry.KDTreeSearchParamKNN(knn=30))\n",
    "\n",
    "\n",
    "    def visualize(self):\n",
    "        # Compute vertex normals for better visualization\n",
    "        self.mesh.compute_vertex_normals()\n",
    "\n",
    "        # Visualize the 3D mesh\n",
    "        o3d.visualization.draw_geometries([self.mesh])"
   ]
  },
  {
   "cell_type": "code",
   "execution_count": 179,
   "id": "8c145de2-150b-422a-83b5-cfa610183d48",
   "metadata": {},
   "outputs": [],
   "source": [
    "class Laser:\n",
    "    \"\"\"\n",
    "    A laser illumination source that projects a grid of dots on the object. \n",
    "\n",
    "    pose: [x_pos, y_pos, z_pos, roll_deg, pitch_deg, yaw_deg] \n",
    "    \"\"\"\n",
    "    def __init__(self, pose: list, line: bool):\n",
    "        self.pose = np.array(pose)\n",
    "\n",
    "        if not line:\n",
    "            self.type = \"grid\"\n",
    "        else: \n",
    "            self.type = \"line\"\n",
    "\n",
    "    def setup_grid(self, grid_size: int, dot_diameter: float, spacing: float):\n",
    "        if not self.type == \"grid\":\n",
    "            raise PermissionError(\"This method is only available for grid type lasers.\")\n",
    "        self.grid_size = np.array([grid_size,grid_size])\n",
    "        self.dot_diameter = dot_diameter #mm\n",
    "        \"\"\"Creates a uniform grid of laser points.\"\"\"\n",
    "        #fig = plt.figure(figsize=(12, 12))\n",
    "        #ax = fig.add_subplot(projection='3d')\n",
    "        \n",
    "        x = np.linspace(-grid_size, grid_size, spacing)\n",
    "        y = np.linspace(-grid_size, grid_size, spacing)\n",
    "        xv, yv = np.meshgrid(x, y)\n",
    "        laser_origins = np.column_stack([xv.ravel(), yv.ravel(), np.zeros_like(xv.ravel())])\n",
    "        #print(laser_origins.T[0])\n",
    "        #ax.scatter(laser_origins.T[0], laser_origins.T[1], laser_origins.T[2])\n",
    "        \n",
    "        laser_origins = rotation_matrix_from_euler(self.pose[-3], self.pose[-2], self.pose[-1]) @ laser_origins[:].transpose()\n",
    "        laser_origins = np.column_stack(laser_origins) + self.pose[:3]\n",
    "        #print(laser_origins)\n",
    "        #ax.scatter(laser_origins.T[0], laser_origins.T[1], laser_origins.T[2])\n",
    "        ray_directions = np.tile([np.radians(self.pose[-3]), np.radians(self.pose[-2]),np.radians(self.pose[-1])], (laser_origins.shape[0], 1))\n",
    "\n",
    "        #plt.show() \n",
    "        ray_tensor = o3d.core.Tensor(np.hstack([laser_origins, ray_directions]), dtype=o3d.core.Dtype.Float32)\n",
    "        return laser_origins, ray_directions\n",
    "    \n",
    "    def setup_line(self, width: float):\n",
    "        if not self.type == \"line\":\n",
    "            raise PermissionError(\"This method is only available for line type lasers.\")\n",
    "        self.width = width\n",
    "\n",
    "    def cast_rays(self, mesh, laser_origins, ray_directions):\n",
    "        # Convert Open3D mesh to a ray-traceable structure\n",
    "        scene = o3d.t.geometry.RaycastingScene()\n",
    "        scene.add_triangles(o3d.t.geometry.TriangleMesh.from_legacy(mesh))\n",
    "        \n",
    "        # Convert laser origins and ray directions to tensor format\n",
    "        ray_tensor = o3d.core.Tensor(np.hstack([laser_origins, ray_directions]), dtype=o3d.core.Dtype.Float32)\n",
    "        \n",
    "        # Perform ray tracing\n",
    "        results = scene.cast_rays(ray_tensor)\n",
    "        intersections = results[\"t_hit\"].numpy()\n",
    "        \n",
    "        # Filter out invalid hits (Open3D returns inf if no hit)\n",
    "        valid_mask = intersections != np.inf\n",
    "        hit_points = laser_origins[valid_mask] + intersections[valid_mask, None] * ray_directions[valid_mask]\n",
    "        \n",
    "        # Convert to Open3D point cloud\n",
    "        pcd = o3d.geometry.PointCloud()\n",
    "        pcd.points = o3d.utility.Vector3dVector(hit_points)\n",
    "\n",
    "        laser_grid = o3d.geometry.PointCloud()\n",
    "        laser_grid.points = o3d.utility.Vector3dVector(laser_origins)\n",
    "        create_direction_arrow = o3d.geometry.TriangleMesh.create_arrow()\n",
    "\n",
    "        bbox = pcd.get_axis_aligned_bounding_box()\n",
    "        print(\"Bounding Box:\", bbox)\n",
    "        \n",
    "        # Visualize the hit points\n",
    "        origin_frame = o3d.geometry.TriangleMesh.create_coordinate_frame(size=100)\n",
    "        o3d.visualization.draw_geometries([mesh.paint_uniform_color([1, 0.706, 0]), pcd, laser_grid, origin_frame])\n",
    "\n",
    "    def compute_laser_intensity(hit_points, normals, laser_dir=np.array([0, 0, -1]), I0=255):\n",
    "        \"\"\"Compute laser intensity based on surface normals.\"\"\"\n",
    "        cos_theta = np.einsum(\"ij,j->i\", normals, -laser_dir)  # Efficient dot product\n",
    "        intensity = np.clip(I0 * cos_theta, 0, 255)  # Ensure non-negative values\n",
    "        return intensity\n",
    "    \n",
    "\n",
    "\n",
    "\n",
    "\n",
    "\n"
   ]
  },
  {
   "cell_type": "code",
   "execution_count": null,
   "id": "6b4b31ab-1776-426c-beec-8015a93d43e6",
   "metadata": {},
   "outputs": [],
   "source": [
    "def compute_reflection_intensity(hit_points, normals, laser_pos, camera_baseline=50, I0=255):\n",
    "    \"\"\"\n",
    "    Compute laser reflection intensity based on Lambertian reflection,\n",
    "    considering both laser and camera angles, where the cameras are\n",
    "    offset from the laser but share the same viewing direction.\n",
    "    \n",
    "    Parameters:\n",
    "    - hit_points: Nx3 array of laser intersection points\n",
    "    - normals: Nx3 array of surface normals at hit points\n",
    "    - laser_pos: 3D position of the laser\n",
    "    - camera_baseline: Distance between the left and right cameras (centered around the laser)\n",
    "    - I0: Initial laser intensity\n",
    "    \n",
    "    Returns:\n",
    "    - intensities_left: Reflection intensity as seen by the left camera\n",
    "    - intensities_right: Reflection intensity as seen by the right camera\n",
    "    \"\"\"\n",
    "    intensities_left = []\n",
    "    intensities_right = []\n",
    "\n",
    "    # Compute left and right camera positions (translated along X)\n",
    "    camera_left_pos = laser_pos + np.array([-camera_baseline / 2, 0, 0])\n",
    "    camera_right_pos = laser_pos + np.array([camera_baseline / 2, 0, 0])\n",
    "\n",
    "    for i, hit_point in enumerate(hit_points):\n",
    "        normal = normals[i]\n",
    "\n",
    "        # Compute laser direction (unit vector)\n",
    "        laser_dir = (hit_point - laser_pos) / np.linalg.norm(hit_point - laser_pos)\n",
    "        \n",
    "        # Compute camera directions (left and right)\n",
    "        camera_left_dir = (hit_point - camera_left_pos) / np.linalg.norm(hit_point - camera_left_pos)\n",
    "        camera_right_dir = (hit_point - camera_right_pos) / np.linalg.norm(hit_point - camera_right_pos)\n",
    "\n",
    "        # Compute angles (cosines) between normal and directions\n",
    "        cos_theta_L = np.dot(normal, -laser_dir)  # Laser angle\n",
    "        cos_theta_CL = np.dot(normal, -camera_left_dir)  # Left camera angle\n",
    "        cos_theta_CR = np.dot(normal, -camera_right_dir)  # Right camera angle\n",
    "\n",
    "        # Ensure non-negative values\n",
    "        cos_theta_L = max(cos_theta_L, 0)\n",
    "        cos_theta_CL = max(cos_theta_CL, 0)\n",
    "\n",
    "        cos_theta_CR = max(cos_theta_CR, 0)\n",
    "\n",
    "        # Compute intensity seen by each camera\n",
    "        intensity_left = I0 * cos_theta_L * cos_theta_CL\n",
    "        intensity_right = I0 * cos_theta_L * cos_theta_CR\n",
    "\n",
    "        intensities_left.append(intensity_left)\n",
    "        intensities_right.append(intensity_right)\n",
    "\n",
    "    return np.array(intensities_left), np.array(intensities_right)\n",
    "\n",
    "# Example Setup\n",
    "laser_pos = np.array([0, 0, 100])  # Laser is above the object\n",
    "camera_baseline = 50  # Cameras are 50mm apart, equally offset from the laser\n"
   ]
  },
  {
   "cell_type": "code",
   "execution_count": 193,
   "id": "ae5cf64b-14b0-4f72-a0ad-1b6818d17f8f",
   "metadata": {},
   "outputs": [
    {
     "name": "stdout",
     "output_type": "stream",
     "text": [
      "Bounding Box: AxisAlignedBoundingBox: min: (-10, 30.1043, 26.36), max: (10, 48.483, 40.4524)\n"
     ]
    }
   ],
   "source": [
    "grid = Laser([0,0,150,0,30,-90],False)\n",
    "#grid.pose[-3:]\n",
    "laser_origins, ray_directions = grid.setup_grid(10,1,10)\n",
    "grid.cast_rays(duck.mesh, laser_origins, ray_directions)\n",
    "\n",
    "# Get normals for hit points\n",
    "#hit_normals = np.asarray(mesh.vertex_normals)[valid_mask]\n",
    "        \n",
    "# Compute intensity values\n",
    "#intensities = compute_laser_intensity(hit_points, hit_normals)"
   ]
  },
  {
   "cell_type": "code",
   "execution_count": 31,
   "id": "c7bd65eb-b71d-41c6-bc8f-b796644cfea4",
   "metadata": {},
   "outputs": [
    {
     "name": "stdout",
     "output_type": "stream",
     "text": [
      "STL file loaded successfully!\n"
     ]
    }
   ],
   "source": [
    "\"\"\" \n",
    "Setup code block\n",
    "\"\"\"\n",
    "\n",
    "# import object\n",
    "duck_file = os.path.abspath(\"../../docs/Rubber_Duck.stl\")\n",
    "duck = Object(duck_file)\n",
    "\n",
    "# create cameras\n",
    "Lcam = Camera(2560,960, 2.43,12)\n",
    "Rcam = Camera(2560,960, 2.43,12)\n",
    "\n"
   ]
  },
  {
   "cell_type": "code",
   "execution_count": 9,
   "id": "5ed90cde-9687-4266-9261-11ffe6ecc02b",
   "metadata": {},
   "outputs": [
    {
     "data": {
      "text/plain": [
       "'\\nScanning code block\\n'"
      ]
     },
     "execution_count": 9,
     "metadata": {},
     "output_type": "execute_result"
    }
   ],
   "source": [
    "\"\"\"\n",
    "Scanning code block\n",
    "\"\"\"\n"
   ]
  },
  {
   "cell_type": "code",
   "execution_count": 10,
   "id": "091ce37d-85fe-4769-b09f-ad4d90f76b93",
   "metadata": {},
   "outputs": [
    {
     "data": {
      "text/plain": [
       "'\\nImage Processing code block\\n'"
      ]
     },
     "execution_count": 10,
     "metadata": {},
     "output_type": "execute_result"
    }
   ],
   "source": [
    "\"\"\"\n",
    "Image Processing code block\n",
    "\"\"\""
   ]
  },
  {
   "cell_type": "code",
   "execution_count": 11,
   "id": "fba2f342-fe3f-4e67-9ea1-7c08559cb313",
   "metadata": {},
   "outputs": [
    {
     "data": {
      "text/plain": [
       "'\\nModel Creation code block\\n'"
      ]
     },
     "execution_count": 11,
     "metadata": {},
     "output_type": "execute_result"
    }
   ],
   "source": [
    "\"\"\"\n",
    "Model Creation code block\n",
    "\"\"\""
   ]
  },
  {
   "cell_type": "code",
   "execution_count": 19,
   "id": "81db9c92-34b7-4691-a342-867464e715be",
   "metadata": {},
   "outputs": [],
   "source": [
    "duck.visualize()\n"
   ]
  },
  {
   "cell_type": "code",
   "execution_count": 25,
   "id": "6d06439b-d3a2-4d33-825c-4099d386e624",
   "metadata": {},
   "outputs": [
    {
     "data": {
      "text/plain": [
       "<matplotlib.colorbar.Colorbar at 0x11c61920ef0>"
      ]
     },
     "execution_count": 25,
     "metadata": {},
     "output_type": "execute_result"
    },
    {
     "data": {
      "image/png": "[encoded data removed]",
      "text/plain": [
       "<Figure size 640x480 with 2 Axes>"
      ]
     },
     "metadata": {},
     "output_type": "display_data"
    }
   ],
   "source": [
    "cube = o3d.t.geometry.TriangleMesh.from_legacy(\n",
    "                                    o3d.geometry.TriangleMesh.create_box())\n",
    "\n",
    "# Create scene and add the cube mesh\n",
    "scene = o3d.t.geometry.RaycastingScene()\n",
    "scene.add_triangles(cube)\n",
    "\n",
    "# Rays are 6D vectors with origin and ray direction.\n",
    "# Here we use a helper function to create rays for a pinhole camera.\n",
    "rays = scene.create_rays_pinhole(fov_deg=60,\n",
    "                                 center=[0.5,0.5,0.5],\n",
    "                                 eye=[-1,-1,-1],\n",
    "                                 up=[0,0,1],\n",
    "                                 width_px=320,\n",
    "                                 height_px=240)\n",
    "\n",
    "# Compute the ray intersections.\n",
    "ans = scene.cast_rays(rays)\n",
    "\n",
    "# Visualize the hit distance (depth)\n",
    "plt.imshow(ans['t_hit'].numpy())\n",
    "plt.colorbar()"
   ]
  },
  {
   "cell_type": "code",
   "execution_count": 33,
   "id": "d93afbc7-dd4e-4109-b451-5788fcd4e7cb",
   "metadata": {},
   "outputs": [
    {
     "ename": "TypeError",
     "evalue": "add_triangles(): incompatible function arguments. The following argument types are supported:\n    1. (self: open3d.cpu.pybind.t.geometry.RaycastingScene, vertex_positions: open3d.cpu.pybind.core.Tensor, triangle_indices: open3d.cpu.pybind.core.Tensor) -> int\n    2. (self: open3d.cpu.pybind.t.geometry.RaycastingScene, mesh: open3d.cpu.pybind.t.geometry.TriangleMesh) -> int\n\nInvoked with: <open3d.cpu.pybind.t.geometry.RaycastingScene object at 0x0000011C5C540FB0>, TriangleMesh with 5482 points and 10960 triangles.",
     "output_type": "error",
     "traceback": [
      "\u001b[1;31m---------------------------------------------------------------------------\u001b[0m",
      "\u001b[1;31mTypeError\u001b[0m                                 Traceback (most recent call last)",
      "Cell \u001b[1;32mIn[33], line 6\u001b[0m\n\u001b[0;32m      1\u001b[0m \u001b[38;5;66;03m# Create scene and add the monkey model.\u001b[39;00m\n\u001b[0;32m      2\u001b[0m \u001b[38;5;66;03m#scene = o3d.t.geometry.RaycastingScene()\u001b[39;00m\n\u001b[0;32m      3\u001b[0m \u001b[38;5;66;03m#d = o3d.data.MonkeyModel()\u001b[39;00m\n\u001b[0;32m      4\u001b[0m \u001b[38;5;66;03m#mesh = o3d.t.io.read_triangle_mesh(d.path)\u001b[39;00m\n\u001b[0;32m      5\u001b[0m mesh \u001b[38;5;241m=\u001b[39m duck\u001b[38;5;241m.\u001b[39mmesh\n\u001b[1;32m----> 6\u001b[0m mesh_id \u001b[38;5;241m=\u001b[39m scene\u001b[38;5;241m.\u001b[39madd_triangles(mesh)\n\u001b[0;32m      8\u001b[0m \u001b[38;5;66;03m# Create a grid of rays covering the bounding box\u001b[39;00m\n\u001b[0;32m      9\u001b[0m bb_min \u001b[38;5;241m=\u001b[39m mesh\u001b[38;5;241m.\u001b[39mvertex[\u001b[38;5;124m'\u001b[39m\u001b[38;5;124mpositions\u001b[39m\u001b[38;5;124m'\u001b[39m]\u001b[38;5;241m.\u001b[39mmin(dim\u001b[38;5;241m=\u001b[39m\u001b[38;5;241m0\u001b[39m)\u001b[38;5;241m.\u001b[39mnumpy()\n",
      "\u001b[1;31mTypeError\u001b[0m: add_triangles(): incompatible function arguments. The following argument types are supported:\n    1. (self: open3d.cpu.pybind.t.geometry.RaycastingScene, vertex_positions: open3d.cpu.pybind.core.Tensor, triangle_indices: open3d.cpu.pybind.core.Tensor) -> int\n    2. (self: open3d.cpu.pybind.t.geometry.RaycastingScene, mesh: open3d.cpu.pybind.t.geometry.TriangleMesh) -> int\n\nInvoked with: <open3d.cpu.pybind.t.geometry.RaycastingScene object at 0x0000011C5C540FB0>, TriangleMesh with 5482 points and 10960 triangles."
     ]
    }
   ],
   "source": [
    "# Create scene and add the monkey model.\n",
    "#scene = o3d.t.geometry.RaycastingScene()\n",
    "#d = o3d.data.MonkeyModel()\n",
    "#mesh = o3d.t.io.read_triangle_mesh(d.path)\n",
    "mesh = duck.mesh\n",
    "mesh_id = scene.add_triangles(mesh)\n",
    "\n",
    "# Create a grid of rays covering the bounding box\n",
    "bb_min = mesh.vertex['positions'].min(dim=0).numpy()\n",
    "bb_max = mesh.vertex['positions'].max(dim=0).numpy()\n",
    "x,y = np.linspace(bb_min, bb_max, num=10)[:,:2].T\n",
    "xv, yv = np.meshgrid(x,y)\n",
    "orig = np.stack([xv, yv, np.full_like(xv, bb_min[2]-1)], axis=-1).reshape(-1,3)\n",
    "dest = orig + np.full(orig.shape, (0,0,2+bb_max[2]-bb_min[2]),dtype=np.float32)\n",
    "rays = np.concatenate([orig, dest-orig], axis=-1).astype(np.float32)\n",
    "\n",
    "# Compute the ray intersections.\n",
    "lx = scene.list_intersections(rays)\n",
    "lx = {k:v.numpy() for k,v in lx.items()}\n",
    "\n",
    "# Calculate intersection coordinates using the primitive uvs and the mesh\n",
    "v = mesh.vertex['positions'].numpy()\n",
    "t = mesh.triangle['indices'].numpy()\n",
    "tidx = lx['primitive_ids']\n",
    "uv = lx['primitive_uvs']\n",
    "w = 1 - np.sum(uv, axis=1)\n",
    "c = \\\n",
    "v[t[tidx, 1].flatten(), :] * uv[:, 0][:, None] + \\\n",
    "v[t[tidx, 2].flatten(), :] * uv[:, 1][:, None] + \\\n",
    "v[t[tidx, 0].flatten(), :] * w[:, None]\n",
    "\n",
    "# Calculate intersection coordinates using ray_ids\n",
    "c = rays[lx['ray_ids']][:,:3] + rays[lx['ray_ids']][:,3:]*lx['t_hit'][...,None]\n",
    "\n",
    "# Visualize the rays and intersections.\n",
    "lines = o3d.t.geometry.LineSet()\n",
    "lines.point.positions = np.hstack([orig,dest]).reshape(-1,3)\n",
    "lines.line.indices = np.arange(lines.point.positions.shape[0]).reshape(-1,2)\n",
    "lines.line.colors = np.full((lines.line.indices.shape[0],3), (1,0,0))\n",
    "x = o3d.t.geometry.PointCloud(positions=c)\n",
    "o3d.visualization.draw([mesh, lines, x], point_size=8)"
   ]
  },
  {
   "cell_type": "code",
   "execution_count": 132,
   "id": "73c96421-9184-4e90-8ab2-d49b94952c4f",
   "metadata": {},
   "outputs": [
    {
     "data": {
      "text/plain": [
       "<__main__.Object at 0x11c5bfbc770>"
      ]
     },
     "execution_count": 132,
     "metadata": {},
     "output_type": "execute_result"
    }
   ],
   "source": [
    "duck"
   ]
  },
  {
   "cell_type": "code",
   "execution_count": null,
   "id": "112cb7c7-d1fb-4581-b474-b53927f615e4",
   "metadata": {},
   "outputs": [],
   "source": []
  }
 ],
 "metadata": {
  "kernelspec": {
   "display_name": "Python 3 (ipykernel)",
   "language": "python",
   "name": "python3"
  },
  "language_info": {
   "codemirror_mode": {
    "name": "ipython",
    "version": 3
   },
   "file_extension": ".py",
   "mimetype": "text/x-python",
   "name": "python",
   "nbconvert_exporter": "python",
   "pygments_lexer": "ipython3",
   "version": "3.12.5"
  }
 },
 "nbformat": 4,
 "nbformat_minor": 5
}
