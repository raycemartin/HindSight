{
 "cells": [
  {
   "cell_type": "code",
   "execution_count": 1,
   "id": "3461c558-d1e9-4188-98cc-4a22f79e2874",
   "metadata": {},
   "outputs": [
    {
     "name": "stdout",
     "output_type": "stream",
     "text": [
      "Jupyter environment detected. Enabling Open3D WebVisualizer.\n",
      "[Open3D INFO] WebRTC GUI backend enabled.\n",
      "[Open3D INFO] WebRTCWindowSystem: HTTP handshake server disabled.\n"
     ]
    }
   ],
   "source": [
    "import numpy as np\n",
    "import cv2\n",
    "import matplotlib.pyplot as plt\n",
    "import open3d as o3d\n",
    "import os"
   ]
  },
  {
   "cell_type": "code",
   "execution_count": 2,
   "id": "8e095fe4-f17c-4311-83a6-fceaa3ace04c",
   "metadata": {},
   "outputs": [],
   "source": [
    "class Camera:\n",
    "    \"\"\"\n",
    "    Camera class for simulating each camera in a stereoscopic setup.\n",
    "    \"\"\"\n",
    "    def __init__(self, width, height, f, coordinate: list, orientation: list):\n",
    "        self.width = width              # width of the camera sensor in mm\n",
    "        self.height = height            # height of the camera sensor in mm\n",
    "        self.f = f                      # focal length of the camera lens\n",
    "        self.coordinate = coordinate    # coordinate position of the camera [x, y, z]\n",
    "        self.orientation = orientation  # orientation of the camera [Rx,Ry,Rz] in degrees\n",
    "\n",
    "    def capture(self):\n",
    "        \"will capture an image of the scene\"\n",
    "        self.img = np.zeros([self.width, self.height])  # creating blank image placeholder\n",
    "        pass"
   ]
  },
  {
   "cell_type": "code",
   "execution_count": 5,
   "id": "fc177083-778d-41e5-8030-ee60c44fd5d6",
   "metadata": {},
   "outputs": [],
   "source": [
    "class Object:\n",
    "    def __init__(self,filename: str, position: list, orientation: list):\n",
    "        if not isinstance(filename, str):\n",
    "            raise TypeError(\"The filename must be a string.\")\n",
    "\n",
    "        self.mesh = o3d.io.read_triangle_mesh(filename)\n",
    "\n",
    "        # Check if the mesh is loaded correctly\n",
    "        if not self.mesh.is_empty():\n",
    "            print(\"STL file loaded successfully!\")\n",
    "        else:\n",
    "            print(\"Failed to load STL file.\")\n",
    "\n",
    "    def visualize(self):\n",
    "        # Compute vertex normals for better visualization\n",
    "        self.mesh.compute_vertex_normals()\n",
    "\n",
    "        # Visualize the 3D mesh\n",
    "        o3d.visualization.draw_geometries([self.mesh])\n",
    "\n",
    "    def to_point_cloud(self):\n",
    "        point_cloud = self.mesh.sample_points_uniformly(number_of_points=10000)  # Adjust the number of points as needed\n",
    "        return point_cloud"
   ]
  },
  {
   "cell_type": "code",
   "execution_count": 12,
   "id": "c038c5f4-f6e4-407c-ae53-10aae7ff366c",
   "metadata": {},
   "outputs": [
    {
     "name": "stdout",
     "output_type": "stream",
     "text": [
      "STL file loaded successfully!\n",
      "<class 'numpy.ndarray'>\n"
     ]
    }
   ],
   "source": [
    "duck_file = os.path.abspath(\"../../docs/Rubber_Duck.stl\")\n",
    "\n",
    "\n",
    "duck = Object(duck_file, [0,0,500], [0,0,0])\n",
    "pc = np.asarray(duck.to_point_cloud().points)\n",
    "\n",
    "print(type(pc))\n",
    "\n",
    "Lcam = Camera(2560,960, 2.43, [-50,0,0], [0,0,0])\n",
    "Rcam = Camera(2560,960, 2.43, [50,0,0], [0,0,0])"
   ]
  },
  {
   "cell_type": "code",
   "execution_count": 13,
   "id": "82f989a6-7d89-4a4f-ad00-a4eb7004e4eb",
   "metadata": {},
   "outputs": [
    {
     "name": "stdout",
     "output_type": "stream",
     "text": [
      "[[ 12.08885101 -30.04470894  65.16532751]\n",
      " [ -9.80444415 -28.41194952  41.24189038]\n",
      " [-27.61553121 -24.00443845  17.90842196]\n",
      " ...\n",
      " [ -4.93308091  18.50010874  26.06846538]\n",
      " [ 31.60992983  -8.42153883  14.9381101 ]\n",
      " [-18.36450211 -27.09885617 -20.63878364]]\n"
     ]
    }
   ],
   "source": [
    "print(pc)"
   ]
  },
  {
   "cell_type": "code",
   "execution_count": null,
   "id": "de9e211f-ba26-48e3-8118-01c2820d9d62",
   "metadata": {},
   "outputs": [],
   "source": []
  }
 ],
 "metadata": {
  "kernelspec": {
   "display_name": "Python 3 (ipykernel)",
   "language": "python",
   "name": "python3"
  },
  "language_info": {
   "codemirror_mode": {
    "name": "ipython",
    "version": 3
   },
   "file_extension": ".py",
   "mimetype": "text/x-python",
   "name": "python",
   "nbconvert_exporter": "python",
   "pygments_lexer": "ipython3",
   "version": "3.12.5"
  }
 },
 "nbformat": 4,
 "nbformat_minor": 5
}
