{
 "cells": [
  {
   "cell_type": "markdown",
   "id": "ceaa529b-aa84-4be9-b710-ac7089a98bff",
   "metadata": {},
   "source": [
    "# 1. Introduction\n",
    "Now that we have scans (images containing the laser contours) they need to be processed to create point clouds of the 3D object/scene. The process goes as follows\n",
    "1. Read in an image pair\n",
    "2. Undistort the images\n",
    "3. Process the images with filters etc.\n",
    "4. Laser contour generation\n",
    "5. Stereo reconstruction\n",
    "6. Create point cloud"
   ]
  },
  {
   "cell_type": "code",
   "execution_count": 2,
   "id": "9590d594-7ec7-4ec8-8468-f8e61eff2c89",
   "metadata": {},
   "outputs": [],
   "source": [
    "import cv2\n",
    "import numpy as np\n",
    "import sys\n",
    "import keyboard\n",
    "import time\n",
    "import os\n",
    "import glob\n",
    "import matplotlib.pyplot as plt"
   ]
  },
  {
   "cell_type": "markdown",
   "id": "6f900f50-821a-44a7-a067-028ad63e162f",
   "metadata": {},
   "source": [
    "# 2. Read in the Image Pair"
   ]
  },
  {
   "cell_type": "code",
   "execution_count": null,
   "id": "b9f5168b-d211-4552-9fe7-34cd1b568707",
   "metadata": {},
   "outputs": [],
   "source": [
    "left_img = cv2.imread(r'scans_20250330_183946\\left_img_1.png')\n",
    "cv2.imshow('Left Image', left_img)\n",
    "cv2.waitKey(0)\n",
    "cv2.destroyAllWindows()"
   ]
  },
  {
   "cell_type": "code",
   "execution_count": null,
   "id": "273e588a-c41d-4e1a-b7de-30be0c46e4db",
   "metadata": {},
   "outputs": [],
   "source": []
  }
 ],
 "metadata": {
  "kernelspec": {
   "display_name": "Python 3 (ipykernel)",
   "language": "python",
   "name": "python3"
  },
  "language_info": {
   "codemirror_mode": {
    "name": "ipython",
    "version": 3
   },
   "file_extension": ".py",
   "mimetype": "text/x-python",
   "name": "python",
   "nbconvert_exporter": "python",
   "pygments_lexer": "ipython3",
   "version": "3.12.5"
  }
 },
 "nbformat": 4,
 "nbformat_minor": 5
}
