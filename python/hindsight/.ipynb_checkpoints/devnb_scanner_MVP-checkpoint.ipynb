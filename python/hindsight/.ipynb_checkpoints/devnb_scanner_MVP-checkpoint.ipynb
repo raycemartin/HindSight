{
 "cells": [
  {
   "cell_type": "markdown",
   "id": "a4e621f4-1ac1-403f-a206-fcf0ad116967",
   "metadata": {},
   "source": [
    "# 1. Introduction\n",
    "This notebook is used to develop the scanning code for the scanner minimimum viable product (MVP).  "
   ]
  },
  {
   "cell_type": "code",
   "execution_count": 1,
   "id": "7820258d-d0d1-4226-8b0c-6b2e09b28f31",
   "metadata": {},
   "outputs": [],
   "source": [
    "import cv2\n",
    "import numpy as np\n",
    "import sys\n",
    "import keyboard\n",
    "import time\n",
    "import os\n",
    "import glob\n",
    "import matplotlib.pyplot as plt"
   ]
  },
  {
   "cell_type": "markdown",
   "id": "21f4b1eb-db92-4ead-94eb-3e6be1900647",
   "metadata": {},
   "source": [
    "# 2. Capture Images (Scan)"
   ]
  },
  {
   "cell_type": "code",
   "execution_count": null,
   "id": "e8e041c0-4dd4-4ccf-9f99-1d533f3ad513",
   "metadata": {},
   "outputs": [],
   "source": [
    "current_directory = os.getcwd()\n",
    "new_directory = os.path.join(current_directory, r'scans')\n",
    "if not os.path.exists(new_directory):\n",
    "    os.makedirs(new_directory)\n",
    "\n",
    "s = 1\n",
    "if len(sys.argv) > 1:\n",
    "    s = sys.argv[1]\n",
    "source = cv2.VideoCapture(s)\n",
    "\n",
    "\n",
    "i = 1\n",
    "while cv2.waitKey(1) != 27:  # Escape to exit\n",
    "    has_frame, frame = source.read()\n",
    "    frame = cv2.flip(frame, 0)\n",
    "\n",
    "    if keyboard.is_pressed('s'):  # wait for 's' key to save images\n",
    "        left_img = frame[:, :int(frame.shape[1] / 2), :]\n",
    "        right_img = frame[:, int(frame.shape[1] / 2):, :]\n",
    "        cv2.imwrite(str(new_directory) + '/cal_left_img_' + str(i) + '.png', left_img)\n",
    "        cv2.imwrite(str(new_directory) + '/cal_right_img_' + str(i) + '.png', right_img)\n",
    "\n",
    "        i += 1\n",
    "        time.sleep(.1)  # debounce key press\n",
    "\n",
    "    cv2.imshow('Camera', frame)\n",
    "source.release()\n",
    "cv2.destroyAllWindows()"
   ]
  },
  {
   "cell_type": "markdown",
   "id": "c2d9f91c-b31a-463f-8ced-47f2272b7061",
   "metadata": {},
   "source": [
    "# 3. Read IMU Data"
   ]
  },
  {
   "cell_type": "code",
   "execution_count": null,
   "id": "711f26e3-f5d5-405f-a92f-eadb3cdc0a86",
   "metadata": {},
   "outputs": [],
   "source": []
  },
  {
   "cell_type": "markdown",
   "id": "29b80977-6990-41a4-9f04-06a16c0e7d9b",
   "metadata": {},
   "source": [
    "# 4. Save Images and Data"
   ]
  },
  {
   "cell_type": "code",
   "execution_count": null,
   "id": "b1221d1d-f366-4a1a-98bb-6d4480c4964c",
   "metadata": {},
   "outputs": [],
   "source": []
  }
 ],
 "metadata": {
  "kernelspec": {
   "display_name": "Python 3 (ipykernel)",
   "language": "python",
   "name": "python3"
  },
  "language_info": {
   "codemirror_mode": {
    "name": "ipython",
    "version": 3
   },
   "file_extension": ".py",
   "mimetype": "text/x-python",
   "name": "python",
   "nbconvert_exporter": "python",
   "pygments_lexer": "ipython3",
   "version": "3.12.5"
  }
 },
 "nbformat": 4,
 "nbformat_minor": 5
}
