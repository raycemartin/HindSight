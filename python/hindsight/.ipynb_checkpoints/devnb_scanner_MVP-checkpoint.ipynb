{
 "cells": [
  {
   "cell_type": "markdown",
   "id": "a4e621f4-1ac1-403f-a206-fcf0ad116967",
   "metadata": {},
   "source": [
    "# 1. Introduction\n",
    "This notebook is used to develop the scanning code for the scanner minimimum viable product (MVP). Each section will demostrate a different feature of the scanner except the final section which will combine the previous sections to create a fully functional scanning code. The final section will then be copied over to a separate python module. The image processing will be done in a separate notebook and subsequent module."
   ]
  },
  {
   "cell_type": "code",
   "execution_count": 2,
   "id": "7820258d-d0d1-4226-8b0c-6b2e09b28f31",
   "metadata": {},
   "outputs": [],
   "source": [
    "import cv2\n",
    "import numpy as np\n",
    "import sys\n",
    "import keyboard\n",
    "import time\n",
    "import os\n",
    "import glob\n",
    "import matplotlib.pyplot as plt\n",
    "import serial\n",
    "import time\n",
    "import csv\n",
    "import json"
   ]
  },
  {
   "cell_type": "markdown",
   "id": "21f4b1eb-db92-4ead-94eb-3e6be1900647",
   "metadata": {},
   "source": [
    "# 2. Capture Images (Scan)\n",
    "This section operates the stereo camera of the scanner. The image, which is received as a stitched image from each camera, will be split and saved in a new timestamped directory. Images will be numbered sequentially. The camera will capture images automatically, without user input other than a start and stop command. Later prototypes of the scanner will contain a hardware button to control this feature.  "
   ]
  },
  {
   "cell_type": "code",
   "execution_count": null,
   "id": "e8e041c0-4dd4-4ccf-9f99-1d533f3ad513",
   "metadata": {},
   "outputs": [],
   "source": [
    "current_directory = os.getcwd()\n",
    "new_directory = os.path.join(current_directory, r'scans') # change to timestamp rather than static folder.\n",
    "if not os.path.exists(new_directory):\n",
    "    os.makedirs(new_directory)\n",
    "\n",
    "s = 1\n",
    "if len(sys.argv) > 1:\n",
    "    s = sys.argv[1]\n",
    "source = cv2.VideoCapture(s)\n",
    "\n",
    "# add a line to first wait for the \"start\" command from the user. Choose a key.\n",
    "i = 1\n",
    "while cv2.waitKey(1) != 27:  # Escape to exit. \n",
    "    has_frame, frame = source.read()\n",
    "    frame = cv2.flip(frame, 0)\n",
    "\n",
    "    if keyboard.is_pressed('s'):  # wait for 's' key to save images. #Change this to be automatic. \n",
    "        left_img = frame[:, :int(frame.shape[1] / 2), :]\n",
    "        right_img = frame[:, int(frame.shape[1] / 2):, :]\n",
    "        cv2.imwrite(str(new_directory) + '/left_img_' + str(i) + '.png', left_img)\n",
    "        cv2.imwrite(str(new_directory) + '/right_img_' + str(i) + '.png', right_img)\n",
    "\n",
    "        i += 1\n",
    "        time.sleep(.1)  # debounce key press\n",
    "\n",
    "    cv2.imshow('Camera', frame)\n",
    "source.release()\n",
    "cv2.destroyAllWindows()"
   ]
  },
  {
   "cell_type": "markdown",
   "id": "c2d9f91c-b31a-463f-8ced-47f2272b7061",
   "metadata": {},
   "source": [
    "# 3. Read IMU Data and Save it as JSON\n",
    "Data from the MPU6090 is passed through the Arduino Nano Every who sends it to the computer over serial. When an image is captured the the scanner pose data (from the IMU) must be captured simultaneously. Therefore, the data must be saved and be corelated to its image pair. This will be done by saving JSON files with said data. This section will focus on reading the serial port, gathering the relevant data, and saving it to JSON files that are innumerated.\n",
    "\n",
    "I need to dig in to IMUs becasue I may need to add code for correcting drift. "
   ]
  },
  {
   "cell_type": "code",
   "execution_count": null,
   "id": "711f26e3-f5d5-405f-a92f-eadb3cdc0a86",
   "metadata": {},
   "outputs": [],
   "source": [
    "data_export = []\n",
    "\n",
    "def readserial(comport, baudrate, timestamp=False):\n",
    "\n",
    "    ser = serial.Serial(comport, baudrate, timeout=0.1)         # 1/timeout is the frequency at which the port is read\n",
    "\n",
    "    while True:\n",
    "\n",
    "        data = ser.readline().decode().strip()\n",
    "        data_export.append(data)\n",
    "        if data and timestamp:\n",
    "            timestamp = time.time()\n",
    "            print(f'{timestamp} > {data}')\n",
    "        elif data:\n",
    "            print(data)\n",
    "    \n",
    "    \n",
    "readserial('COM4', 9600, True)                          # COM port, Baudrate, Show timestamp"
   ]
  },
  {
   "cell_type": "markdown",
   "id": "29b80977-6990-41a4-9f04-06a16c0e7d9b",
   "metadata": {},
   "source": [
    "# 4. Combining Code"
   ]
  },
  {
   "cell_type": "code",
   "execution_count": null,
   "id": "b1221d1d-f366-4a1a-98bb-6d4480c4964c",
   "metadata": {},
   "outputs": [],
   "source": []
  }
 ],
 "metadata": {
  "kernelspec": {
   "display_name": "Python 3 (ipykernel)",
   "language": "python",
   "name": "python3"
  },
  "language_info": {
   "codemirror_mode": {
    "name": "ipython",
    "version": 3
   },
   "file_extension": ".py",
   "mimetype": "text/x-python",
   "name": "python",
   "nbconvert_exporter": "python",
   "pygments_lexer": "ipython3",
   "version": "3.12.5"
  }
 },
 "nbformat": 4,
 "nbformat_minor": 5
}
