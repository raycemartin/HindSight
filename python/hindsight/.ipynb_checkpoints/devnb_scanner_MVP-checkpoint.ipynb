{
 "cells": [
  {
   "cell_type": "code",
   "execution_count": 1,
   "id": "7820258d-d0d1-4226-8b0c-6b2e09b28f31",
   "metadata": {},
   "outputs": [],
   "source": [
    "import cv2\n",
    "import numpy as np\n",
    "import sys\n",
    "import keyboard\n",
    "import time\n",
    "import os\n",
    "import glob\n",
    "import matplotlib.pyplot as plt"
   ]
  },
  {
   "cell_type": "code",
   "execution_count": null,
   "id": "e8e041c0-4dd4-4ccf-9f99-1d533f3ad513",
   "metadata": {},
   "outputs": [],
   "source": [
    "current_directory = os.getcwd()\n",
    "new_directory = os.path.join(current_directory, r'scans')\n",
    "if not os.path.exists(new_directory):\n",
    "    os.makedirs(new_directory)\n",
    "\n",
    "s = 1\n",
    "if len(sys.argv) > 1:\n",
    "    s = sys.argv[1]\n",
    "source = cv2.VideoCapture(s)\n",
    "\n",
    "\n",
    "i = 1\n",
    "while cv2.waitKey(1) != 27:  # Escape to exit\n",
    "    has_frame, frame = source.read()\n",
    "    frame = cv2.flip(frame, 0)\n",
    "\n",
    "    if keyboard.is_pressed('s'):  # wait for 's' key to save images\n",
    "        left_img = frame[:, :int(frame.shape[1] / 2), :]\n",
    "        right_img = frame[:, int(frame.shape[1] / 2):, :]\n",
    "        cv2.imwrite(str(new_directory) + '/cal_left_img_' + str(i) + '.png', left_img)\n",
    "        cv2.imwrite(str(new_directory) + '/cal_right_img_' + str(i) + '.png', right_img)\n",
    "\n",
    "        i += 1\n",
    "        time.sleep(.1)  # debounce key press\n",
    "\n",
    "    cv2.imshow('Camera', frame)\n",
    "source.release()\n",
    "cv2.destroyAllWindows()"
   ]
  }
 ],
 "metadata": {
  "kernelspec": {
   "display_name": "Python 3 (ipykernel)",
   "language": "python",
   "name": "python3"
  },
  "language_info": {
   "codemirror_mode": {
    "name": "ipython",
    "version": 3
   },
   "file_extension": ".py",
   "mimetype": "text/x-python",
   "name": "python",
   "nbconvert_exporter": "python",
   "pygments_lexer": "ipython3",
   "version": "3.12.5"
  }
 },
 "nbformat": 4,
 "nbformat_minor": 5
}
