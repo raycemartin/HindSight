{
 "cells": [
  {
   "cell_type": "code",
   "execution_count": 3,
   "id": "a95cb9f5-2265-4515-a7d8-d7e4ec7f47a9",
   "metadata": {},
   "outputs": [],
   "source": [
    "import cv2\n",
    "import numpy as np\n",
    "import sys\n",
    "import keyboard\n",
    "import time\n",
    "import os\n",
    "import glob\n",
    "import matplotlib.pyplot as plt"
   ]
  },
  {
   "cell_type": "code",
   "execution_count": 4,
   "id": "280f96b2-b46f-4596-a426-7dd284c62f3e",
   "metadata": {},
   "outputs": [],
   "source": [
    "class Camera:\n",
    "    def __init__(self, name):\n",
    "        self.name = name\n",
    "        self.camera_params = []\n",
    "        self.camera_matrix = []\n",
    "        self.roi = ()\n",
    "        self.dist = []\n",
    "        self.objpoints = []\n",
    "        self.imgpoints = []\n",
    "\n",
    "    def calibrate(self):\n",
    "        \"\"\"\n",
    "        Calibrate a camera using calibration images of a chessboard of a chosen size.\n",
    "        \"\"\"\n",
    "        current_directory = os.getcwd()\n",
    "\n",
    "        # size of chessboard (L x W) - inner chessboard\n",
    "        size_of_target = (7 * 5, 3)\n",
    "\n",
    "        # termination criteria\n",
    "        criteria = (cv2.TERM_CRITERIA_EPS + cv2.TERM_CRITERIA_MAX_ITER, 30, 0.001)\n",
    "\n",
    "        # prepare object points, like (0,0,0), (2,0,0) ..., (6,5,0)\n",
    "        objp = np.zeros(size_of_target, np.float32)\n",
    "        objp[:, :2] = np.mgrid[0:7, 0:5].T.reshape(-1, 2)\n",
    "\n",
    "        objp = objp*30\n",
    "\n",
    "        # arrays to store object points and image points from all the images\n",
    "        objpoints = []                                      # 3d points in real space\n",
    "        imgpoints = []                                      # 2d points in real space\n",
    "\n",
    "        # grabbing all the calibration images for the camera\n",
    "        images = glob.glob(str(current_directory) + '/calibration_images/cal_' + self.name + '_img_*.png')\n",
    "\n",
    "        # Check if images exist\n",
    "        if not images:\n",
    "            print(f\"Error: No calibration images found for '{self.name}' camera.\")\n",
    "            return\n",
    "\n",
    "        #\n",
    "        for fname in images:\n",
    "\n",
    "            img = cv2.imread(fname)                         # reading in image N\n",
    "            gray = cv2.cvtColor(img, cv2.COLOR_BGR2GRAY)    # converting it to grayscale\n",
    "\n",
    "            # find the chess board corners\n",
    "            ret, corners = cv2.findChessboardCorners(gray, (7, 5), None)\n",
    "\n",
    "            # if found, add object points, image points (after refining them)\n",
    "            if ret == True:\n",
    "                print(f\"Processing {fname}...\")\n",
    "                objpoints.append(objp)\n",
    "\n",
    "                corners2 = cv2.cornerSubPix(gray, corners, (9, 9), (-1, -1), criteria)\n",
    "                imgpoints.append(corners2)\n",
    "\n",
    "                # draw and display corners\n",
    "                cv2.drawChessboardCorners(img, (7, 5), corners2, ret)\n",
    "                cv2.imshow('img', img)\n",
    "                cv2.waitKey(500)\n",
    "            else:\n",
    "                print(f\"Chessboard not detected in {fname}.\")\n",
    "\n",
    "        cv2.destroyAllWindows()\n",
    "\n",
    "        h, w = gray.shape[:2]\n",
    "        self.camera_params = cv2.calibrateCamera(objpoints, imgpoints, gray.shape[::-1], None,\n",
    "                                                 None)  # ret, mtx, dist, rvecs, tvecs\n",
    "        self.camera_matrix, self.roi = cv2.getOptimalNewCameraMatrix(self.camera_params[1], self.camera_params[2],\n",
    "                                                                     (w, h), 1, (w, h))\n",
    "        self.objpoints = objpoints\n",
    "        self.imgpoints = imgpoints\n",
    "\n",
    "    def undistort(self, img):\n",
    "        h, w = img.shape[:2]\n",
    "\n",
    "        undistorted = cv2.undistort(img, self.camera_params[1], self.camera_params[2], None, self.camera_matrix)\n",
    "\n",
    "        x, y, w, h = self.roi\n",
    "        undistorted = undistorted[y:y + h, x:x + w]\n",
    "        # **Optional: Resize back to original**\n",
    "        #undistorted = cv2.resize(undistorted, (w, h))\n",
    "        \n",
    "        cv2.imshow('Original Image', img)\n",
    "        cv2.imshow('Undistorted Image', undistorted)\n",
    "        cv2.waitKey(0)\n",
    "        cv2.destroyAllWindows()"
   ]
  },
  {
   "cell_type": "code",
   "execution_count": 5,
   "id": "2f5424d0-3641-4077-8962-ec8f3a3f0dbb",
   "metadata": {},
   "outputs": [],
   "source": [
    "def stereo_rectify():\n",
    "    flags = 0\n",
    "    flags |= cv2.CALIB_FIX_INTRINSIC\n",
    "    # Here we fix the intrinsic camara matrixes so that only Rot, Trns, Emat and Fmat are calculated.\n",
    "    # Hence intrinsic parameters are the same\n",
    "    gray = np.zeros((240, 320))\n",
    "    criteria_stereo = (cv2.TERM_CRITERIA_EPS + cv2.TERM_CRITERIA_MAX_ITER, 30, 0.001)\n",
    "    # This step is performed to transformation between the two cameras and calculate Essential and Fundamental matrix\n",
    "    retS, new_mtxL, distL, new_mtxR, distR, Rot, Trns, Emat, Fmat = cv2.stereoCalibrate(left_camera.objpoints,\n",
    "                                                                                        left_camera.imgpoints,\n",
    "                                                                                        right_camera.imgpoints,\n",
    "                                                                                        left_camera.camera_matrix,\n",
    "                                                                                        left_camera.camera_params[2],\n",
    "                                                                                        right_camera.camera_matrix,\n",
    "                                                                                        right_camera.camera_params[2],\n",
    "                                                                                        gray.shape[::-1],\n",
    "                                                                                        criteria_stereo,\n",
    "                                                                                        flags)\n",
    "\n",
    "    rectify_scale = 1\n",
    "    rect_l, rect_r, proj_mat_l, proj_mat_r, Q, roiL, roiR = cv2.stereoRectify(new_mtxL,\n",
    "                                                                              distL,\n",
    "                                                                              new_mtxR,\n",
    "                                                                              distR,\n",
    "                                                                              gray.shape[::-1],\n",
    "                                                                              Rot,\n",
    "                                                                              Trns,\n",
    "                                                                              rectify_scale, (0, 0))\n",
    "\n",
    "    Left_Stereo_Map = cv2.initUndistortRectifyMap(new_mtxL, distL, rect_l, proj_mat_l,\n",
    "                                                  gray.shape[::-1], cv2.CV_16SC2)\n",
    "    Right_Stereo_Map = cv2.initUndistortRectifyMap(new_mtxR, distR, rect_r, proj_mat_r,\n",
    "                                                   gray.shape[::-1], cv2.CV_16SC2)\n",
    "\n",
    "    print(\"Saving parameters ......\")\n",
    "    cv_file = cv2.FileStorage(\"improved_params2.xml\", cv2.FILE_STORAGE_WRITE)\n",
    "    cv_file.write(\"Left_Stereo_Map_x\", Left_Stereo_Map[0])\n",
    "    cv_file.write(\"Left_Stereo_Map_y\", Left_Stereo_Map[1])\n",
    "    cv_file.write(\"Right_Stereo_Map_x\", Right_Stereo_Map[0])\n",
    "    cv_file.write(\"Right_Stereo_Map_y\", Right_Stereo_Map[1])\n",
    "    cv_file.release()\n",
    "    print(\"Done\")\n",
    "\n",
    "\n",
    "    imgL = cv2.imread(r'calibration_images/cal_left_img_1.png')\n",
    "    imgR = cv2.imread(r'calibration_images/cal_right_img_1.png')\n",
    "\n",
    "    cv2.imshow(\"Left image before rectification\", imgL)\n",
    "    cv2.imshow(\"Right image before rectification\", imgR)\n",
    "\n",
    "    Left_nice = cv2.remap(imgL, Left_Stereo_Map[0], Left_Stereo_Map[1], cv2.INTER_LANCZOS4, cv2.BORDER_CONSTANT, 0)\n",
    "    Right_nice = cv2.remap(imgR, Right_Stereo_Map[0], Right_Stereo_Map[1], cv2.INTER_LANCZOS4, cv2.BORDER_CONSTANT, 0)\n",
    "\n",
    "    cv2.imshow(\"Left image after rectification\", Left_nice)\n",
    "    cv2.imshow(\"Right image after rectification\", Right_nice)\n",
    "    cv2.waitKey(0)\n",
    "\n",
    "    out = Right_nice.copy()\n",
    "    out[:, :, 0] = Right_nice[:, :, 0]\n",
    "    out[:, :, 1] = Right_nice[:, :, 1]\n",
    "    out[:, :, 2] = Left_nice[:, :, 2]\n",
    "\n",
    "    cv2.imshow(\"Output image\", out)\n",
    "    cv2.waitKey(0)\n",
    "    cv2.destroyAllWindows()\n"
   ]
  },
  {
   "cell_type": "code",
   "execution_count": 6,
   "id": "41dff2bc-641a-42e3-ab49-0c0fd83be5df",
   "metadata": {},
   "outputs": [],
   "source": [
    "def view_rectified_image():\n",
    "    pass\n",
    "# ret, mtx, dist, rvecs, tvecs = calibrate()"
   ]
  },
  {
   "cell_type": "code",
   "execution_count": 7,
   "id": "6878558e-9459-4240-87e8-a292cfd82c37",
   "metadata": {},
   "outputs": [],
   "source": [
    "def take_images():\n",
    "    current_directory = os.getcwd()\n",
    "    new_directory = os.path.join(current_directory, r'calibration_images')\n",
    "    if not os.path.exists(new_directory):\n",
    "        os.makedirs(new_directory)\n",
    "\n",
    "    s = 1\n",
    "    if len(sys.argv) > 1:\n",
    "        s = sys.argv[1]\n",
    "    source = cv2.VideoCapture(s)\n",
    "\n",
    "\n",
    "    i = 1\n",
    "    while cv2.waitKey(1) != 27:  # Escape to exit\n",
    "        has_frame, frame = source.read()\n",
    "        frame = cv2.flip(frame, 0)\n",
    "\n",
    "        if keyboard.is_pressed('s'):  # wait for 's' key to save images\n",
    "            left_img = frame[:, :int(frame.shape[1] / 2), :]\n",
    "            right_img = frame[:, int(frame.shape[1] / 2):, :]\n",
    "            cv2.imwrite(str(new_directory) + '/cal_right_img_' + str(i) + '.png', right_img)\n",
    "            cv2.imwrite(str(new_directory) + '/cal_left_img_' + str(i) + '.png', left_img)\n",
    "\n",
    "            i += 1\n",
    "            time.sleep(.1)  # debounce key press\n",
    "\n",
    "        cv2.imshow('Camera', frame)\n",
    "    source.release()\n",
    "    cv2.destroyAllWindows()\n"
   ]
  },
  {
   "cell_type": "code",
   "execution_count": 1,
   "id": "eb270919-f27f-4025-b187-65d54bb90f0d",
   "metadata": {},
   "outputs": [
    {
     "ename": "NameError",
     "evalue": "name 'take_images' is not defined",
     "output_type": "error",
     "traceback": [
      "\u001b[1;31m---------------------------------------------------------------------------\u001b[0m",
      "\u001b[1;31mNameError\u001b[0m                                 Traceback (most recent call last)",
      "Cell \u001b[1;32mIn[1], line 1\u001b[0m\n\u001b[1;32m----> 1\u001b[0m take_images()\n",
      "\u001b[1;31mNameError\u001b[0m: name 'take_images' is not defined"
     ]
    }
   ],
   "source": [
    "take_images()"
   ]
  },
  {
   "cell_type": "code",
   "execution_count": 24,
   "id": "f883234b-2520-4983-971d-28d3f6d91c21",
   "metadata": {},
   "outputs": [],
   "source": [
    "left_camera = Camera('left')\n",
    "right_camera = Camera('right') "
   ]
  },
  {
   "cell_type": "code",
   "execution_count": 25,
   "id": "207fa82b-9d5c-4ce9-8474-46db8f586cf5",
   "metadata": {},
   "outputs": [
    {
     "name": "stdout",
     "output_type": "stream",
     "text": [
      "Processing C:\\Users\\rayce\\OneDrive\\Documents\\GitHub\\HindSight\\python\\hindsight/calibration_images\\cal_left_img_1.png...\n",
      "Processing C:\\Users\\rayce\\OneDrive\\Documents\\GitHub\\HindSight\\python\\hindsight/calibration_images\\cal_left_img_10.png...\n",
      "Processing C:\\Users\\rayce\\OneDrive\\Documents\\GitHub\\HindSight\\python\\hindsight/calibration_images\\cal_left_img_11.png...\n",
      "Processing C:\\Users\\rayce\\OneDrive\\Documents\\GitHub\\HindSight\\python\\hindsight/calibration_images\\cal_left_img_12.png...\n",
      "Processing C:\\Users\\rayce\\OneDrive\\Documents\\GitHub\\HindSight\\python\\hindsight/calibration_images\\cal_left_img_13.png...\n",
      "Processing C:\\Users\\rayce\\OneDrive\\Documents\\GitHub\\HindSight\\python\\hindsight/calibration_images\\cal_left_img_14.png...\n",
      "Processing C:\\Users\\rayce\\OneDrive\\Documents\\GitHub\\HindSight\\python\\hindsight/calibration_images\\cal_left_img_15.png...\n",
      "Processing C:\\Users\\rayce\\OneDrive\\Documents\\GitHub\\HindSight\\python\\hindsight/calibration_images\\cal_left_img_16.png...\n",
      "Processing C:\\Users\\rayce\\OneDrive\\Documents\\GitHub\\HindSight\\python\\hindsight/calibration_images\\cal_left_img_17.png...\n",
      "Processing C:\\Users\\rayce\\OneDrive\\Documents\\GitHub\\HindSight\\python\\hindsight/calibration_images\\cal_left_img_18.png...\n",
      "Processing C:\\Users\\rayce\\OneDrive\\Documents\\GitHub\\HindSight\\python\\hindsight/calibration_images\\cal_left_img_19.png...\n",
      "Processing C:\\Users\\rayce\\OneDrive\\Documents\\GitHub\\HindSight\\python\\hindsight/calibration_images\\cal_left_img_2.png...\n",
      "Processing C:\\Users\\rayce\\OneDrive\\Documents\\GitHub\\HindSight\\python\\hindsight/calibration_images\\cal_left_img_20.png...\n",
      "Processing C:\\Users\\rayce\\OneDrive\\Documents\\GitHub\\HindSight\\python\\hindsight/calibration_images\\cal_left_img_21.png...\n",
      "Processing C:\\Users\\rayce\\OneDrive\\Documents\\GitHub\\HindSight\\python\\hindsight/calibration_images\\cal_left_img_22.png...\n",
      "Processing C:\\Users\\rayce\\OneDrive\\Documents\\GitHub\\HindSight\\python\\hindsight/calibration_images\\cal_left_img_23.png...\n",
      "Processing C:\\Users\\rayce\\OneDrive\\Documents\\GitHub\\HindSight\\python\\hindsight/calibration_images\\cal_left_img_24.png...\n",
      "Processing C:\\Users\\rayce\\OneDrive\\Documents\\GitHub\\HindSight\\python\\hindsight/calibration_images\\cal_left_img_25.png...\n",
      "Processing C:\\Users\\rayce\\OneDrive\\Documents\\GitHub\\HindSight\\python\\hindsight/calibration_images\\cal_left_img_3.png...\n",
      "Processing C:\\Users\\rayce\\OneDrive\\Documents\\GitHub\\HindSight\\python\\hindsight/calibration_images\\cal_left_img_4.png...\n",
      "Processing C:\\Users\\rayce\\OneDrive\\Documents\\GitHub\\HindSight\\python\\hindsight/calibration_images\\cal_left_img_5.png...\n",
      "Processing C:\\Users\\rayce\\OneDrive\\Documents\\GitHub\\HindSight\\python\\hindsight/calibration_images\\cal_left_img_6.png...\n",
      "Processing C:\\Users\\rayce\\OneDrive\\Documents\\GitHub\\HindSight\\python\\hindsight/calibration_images\\cal_left_img_7.png...\n",
      "Processing C:\\Users\\rayce\\OneDrive\\Documents\\GitHub\\HindSight\\python\\hindsight/calibration_images\\cal_left_img_8.png...\n",
      "Processing C:\\Users\\rayce\\OneDrive\\Documents\\GitHub\\HindSight\\python\\hindsight/calibration_images\\cal_left_img_9.png...\n",
      "Processing C:\\Users\\rayce\\OneDrive\\Documents\\GitHub\\HindSight\\python\\hindsight/calibration_images\\cal_right_img_1.png...\n",
      "Processing C:\\Users\\rayce\\OneDrive\\Documents\\GitHub\\HindSight\\python\\hindsight/calibration_images\\cal_right_img_10.png...\n",
      "Processing C:\\Users\\rayce\\OneDrive\\Documents\\GitHub\\HindSight\\python\\hindsight/calibration_images\\cal_right_img_11.png...\n",
      "Processing C:\\Users\\rayce\\OneDrive\\Documents\\GitHub\\HindSight\\python\\hindsight/calibration_images\\cal_right_img_12.png...\n",
      "Processing C:\\Users\\rayce\\OneDrive\\Documents\\GitHub\\HindSight\\python\\hindsight/calibration_images\\cal_right_img_13.png...\n",
      "Processing C:\\Users\\rayce\\OneDrive\\Documents\\GitHub\\HindSight\\python\\hindsight/calibration_images\\cal_right_img_14.png...\n",
      "Processing C:\\Users\\rayce\\OneDrive\\Documents\\GitHub\\HindSight\\python\\hindsight/calibration_images\\cal_right_img_15.png...\n",
      "Processing C:\\Users\\rayce\\OneDrive\\Documents\\GitHub\\HindSight\\python\\hindsight/calibration_images\\cal_right_img_16.png...\n",
      "Processing C:\\Users\\rayce\\OneDrive\\Documents\\GitHub\\HindSight\\python\\hindsight/calibration_images\\cal_right_img_17.png...\n",
      "Processing C:\\Users\\rayce\\OneDrive\\Documents\\GitHub\\HindSight\\python\\hindsight/calibration_images\\cal_right_img_18.png...\n",
      "Processing C:\\Users\\rayce\\OneDrive\\Documents\\GitHub\\HindSight\\python\\hindsight/calibration_images\\cal_right_img_19.png...\n",
      "Processing C:\\Users\\rayce\\OneDrive\\Documents\\GitHub\\HindSight\\python\\hindsight/calibration_images\\cal_right_img_2.png...\n",
      "Processing C:\\Users\\rayce\\OneDrive\\Documents\\GitHub\\HindSight\\python\\hindsight/calibration_images\\cal_right_img_20.png...\n",
      "Processing C:\\Users\\rayce\\OneDrive\\Documents\\GitHub\\HindSight\\python\\hindsight/calibration_images\\cal_right_img_21.png...\n",
      "Processing C:\\Users\\rayce\\OneDrive\\Documents\\GitHub\\HindSight\\python\\hindsight/calibration_images\\cal_right_img_22.png...\n",
      "Processing C:\\Users\\rayce\\OneDrive\\Documents\\GitHub\\HindSight\\python\\hindsight/calibration_images\\cal_right_img_23.png...\n",
      "Processing C:\\Users\\rayce\\OneDrive\\Documents\\GitHub\\HindSight\\python\\hindsight/calibration_images\\cal_right_img_24.png...\n",
      "Processing C:\\Users\\rayce\\OneDrive\\Documents\\GitHub\\HindSight\\python\\hindsight/calibration_images\\cal_right_img_25.png...\n",
      "Processing C:\\Users\\rayce\\OneDrive\\Documents\\GitHub\\HindSight\\python\\hindsight/calibration_images\\cal_right_img_3.png...\n",
      "Processing C:\\Users\\rayce\\OneDrive\\Documents\\GitHub\\HindSight\\python\\hindsight/calibration_images\\cal_right_img_4.png...\n",
      "Processing C:\\Users\\rayce\\OneDrive\\Documents\\GitHub\\HindSight\\python\\hindsight/calibration_images\\cal_right_img_5.png...\n",
      "Processing C:\\Users\\rayce\\OneDrive\\Documents\\GitHub\\HindSight\\python\\hindsight/calibration_images\\cal_right_img_6.png...\n",
      "Processing C:\\Users\\rayce\\OneDrive\\Documents\\GitHub\\HindSight\\python\\hindsight/calibration_images\\cal_right_img_7.png...\n",
      "Processing C:\\Users\\rayce\\OneDrive\\Documents\\GitHub\\HindSight\\python\\hindsight/calibration_images\\cal_right_img_8.png...\n",
      "Processing C:\\Users\\rayce\\OneDrive\\Documents\\GitHub\\HindSight\\python\\hindsight/calibration_images\\cal_right_img_9.png...\n"
     ]
    }
   ],
   "source": [
    "left_camera.calibrate()\n",
    "right_camera.calibrate()"
   ]
  },
  {
   "cell_type": "code",
   "execution_count": 16,
   "id": "55cf7239-775e-4992-bc3e-16056643b6c0",
   "metadata": {},
   "outputs": [
    {
     "name": "stdout",
     "output_type": "stream",
     "text": [
      "(240, 320, 3)\n"
     ]
    },
    {
     "data": {
      "text/plain": [
       "(0, 0, 319, 239)"
      ]
     },
     "execution_count": 16,
     "metadata": {},
     "output_type": "execute_result"
    }
   ],
   "source": [
    "imgL = cv2.imread(r'calibration_images/cal_left_img_1.png')\n",
    "print(imgL.shape)\n",
    "left_camera.undistort(imgL)\n",
    "left_camera.roi"
   ]
  },
  {
   "cell_type": "code",
   "execution_count": 17,
   "id": "102f4b47-b355-4e9a-9fb9-aae7982e0933",
   "metadata": {},
   "outputs": [
    {
     "data": {
      "text/plain": [
       "(0, 0, 319, 239)"
      ]
     },
     "execution_count": 17,
     "metadata": {},
     "output_type": "execute_result"
    }
   ],
   "source": [
    "imgR = cv2.imread(r'calibration_images/cal_right_img_1.png')\n",
    "right_camera.undistort(imgR)\n",
    "right_camera.roi"
   ]
  },
  {
   "cell_type": "code",
   "execution_count": 27,
   "id": "6306322e-73e0-4141-99f8-75b6fcb99294",
   "metadata": {},
   "outputs": [],
   "source": [
    "# Camera parameters to undistort and rectify images\n",
    "cv_file = cv2.FileStorage()\n",
    "cv_file.open('improved_params2.xml', cv2.FileStorage_READ)\n",
    "\n",
    "stereoMapL_x = cv_file.getNode('Left_Stereo_Map_x').mat()\n",
    "stereoMapL_y = cv_file.getNode('Left_Stereo_Map_y').mat()\n",
    "stereoMapR_x = cv_file.getNode('Right_Stereo_Map_x').mat()\n",
    "stereoMapR_y = cv_file.getNode('Right_Stereo_Map_y').mat()\n",
    "\n",
    "frameL = cv2.imread(r'calibration_images/cal_left_img_1.png')\n",
    "frameR = cv2.imread(r'calibration_images/cal_right_img_1.png')\n",
    "\n",
    "def undistortRectify(frameR, frameL):\n",
    "\n",
    "    # Undistort and rectify images\n",
    "    undistortedL= cv2.remap(frameL, stereoMapL_x, stereoMapL_y, cv2.INTER_LANCZOS4, cv2.BORDER_CONSTANT, 0)\n",
    "    undistortedR= cv2.remap(frameR, stereoMapR_x, stereoMapR_y, cv2.INTER_LANCZOS4, cv2.BORDER_CONSTANT, 0)\n",
    "\n",
    "\n",
    "    return undistortedR, undistortedL\n",
    "\n",
    "undistortedR, undistortedL = undistortRectify(frameL, frameR)\n",
    "\n",
    "cv2.imshow('left', undistortedL)\n",
    "cv2.imshow('right', undistortedR)\n",
    "cv2.waitKey(0)\n",
    "cv2.destroyAllWindows()"
   ]
  },
  {
   "cell_type": "code",
   "execution_count": 26,
   "id": "35aaf078-f89d-4fe7-9169-bde9729f5604",
   "metadata": {},
   "outputs": [
    {
     "name": "stdout",
     "output_type": "stream",
     "text": [
      "Saving parameters ......\n",
      "Done\n"
     ]
    }
   ],
   "source": [
    "stereo_rectify()"
   ]
  },
  {
   "cell_type": "code",
   "execution_count": 16,
   "id": "fe4b6bfe-a78e-460c-a286-d0bec8164cb2",
   "metadata": {},
   "outputs": [
    {
     "name": "stdout",
     "output_type": "stream",
     "text": [
      "None\n"
     ]
    }
   ],
   "source": [
    "print(stereoMapL_x)"
   ]
  },
  {
   "cell_type": "code",
   "execution_count": 4,
   "id": "71f50e15-5a55-4e7d-b83d-b80b1d75e43d",
   "metadata": {},
   "outputs": [
    {
     "data": {
      "image/png": "[encoded data removed]",
      "text/plain": [
       "<Figure size 640x480 with 1 Axes>"
      ]
     },
     "metadata": {},
     "output_type": "display_data"
    }
   ],
   "source": [
    "imgL = cv2.imread(r'calibration_images/cal_left_img_1.png', cv2.IMREAD_GRAYSCALE)\n",
    "imgR = cv2.imread(r'calibration_images/cal_left_img_1.png', cv2.IMREAD_GRAYSCALE)\n",
    " \n",
    "stereo = cv2.StereoBM.create(numDisparities=16, blockSize=15)\n",
    "disparity = stereo.compute(imgL,imgR)\n",
    "plt.imshow(disparity,'gray')\n",
    "plt.show()"
   ]
  },
  {
   "cell_type": "code",
   "execution_count": 5,
   "id": "e46a8619-a13d-4736-b8e1-2840e0731836",
   "metadata": {},
   "outputs": [
    {
     "data": {
      "text/plain": [
       "27"
      ]
     },
     "execution_count": 5,
     "metadata": {},
     "output_type": "execute_result"
    }
   ],
   "source": [
    "imgL = cv2.imread(r'calibration_images/cal_left_img_1.png', cv2.IMREAD_GRAYSCALE)\n",
    "imgR = cv2.imread(r'calibration_images/cal_right_img_1.png', cv2.IMREAD_GRAYSCALE)\n",
    " \n",
    "# Setting parameters for StereoSGBM algorithm\n",
    "minDisparity = 0;\n",
    "numDisparities = 64;\n",
    "blockSize = 8;\n",
    "disp12MaxDiff = 1;\n",
    "uniquenessRatio = 10;\n",
    "speckleWindowSize = 10;\n",
    "speckleRange = 8;\n",
    " \n",
    "# Creating an object of StereoSGBM algorithm\n",
    "stereo = cv2.StereoSGBM_create(minDisparity = minDisparity,\n",
    "        numDisparities = numDisparities,\n",
    "        blockSize = blockSize,\n",
    "        disp12MaxDiff = disp12MaxDiff,\n",
    "        uniquenessRatio = uniquenessRatio,\n",
    "        speckleWindowSize = speckleWindowSize,\n",
    "        speckleRange = speckleRange\n",
    "    )\n",
    " \n",
    "# Calculating disparith using the StereoSGBM algorithm\n",
    "disp = stereo.compute(imgL, imgR).astype(np.float32)\n",
    "disp = cv2.normalize(disp,0,255,cv2.NORM_MINMAX)\n",
    " \n",
    "# Displaying the disparity map\n",
    "cv2.imshow(\"disparity\",disp)\n",
    "cv2.waitKey(0)"
   ]
  },
  {
   "cell_type": "code",
   "execution_count": null,
   "id": "aee92700-fb3f-4a47-aada-17a35d4f27dd",
   "metadata": {},
   "outputs": [],
   "source": []
  }
 ],
 "metadata": {
  "kernelspec": {
   "display_name": "Python 3 (ipykernel)",
   "language": "python",
   "name": "python3"
  },
  "language_info": {
   "codemirror_mode": {
    "name": "ipython",
    "version": 3
   },
   "file_extension": ".py",
   "mimetype": "text/x-python",
   "name": "python",
   "nbconvert_exporter": "python",
   "pygments_lexer": "ipython3",
   "version": "3.12.5"
  }
 },
 "nbformat": 4,
 "nbformat_minor": 5
}
