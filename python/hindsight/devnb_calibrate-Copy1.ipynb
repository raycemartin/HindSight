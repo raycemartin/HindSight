{
 "cells": [
  {
   "cell_type": "code",
   "execution_count": 1,
   "id": "a95cb9f5-2265-4515-a7d8-d7e4ec7f47a9",
   "metadata": {},
   "outputs": [],
   "source": [
    "import cv2\n",
    "import numpy as np\n",
    "import sys\n",
    "import keyboard\n",
    "import time\n",
    "import os\n",
    "import glob"
   ]
  },
  {
   "cell_type": "code",
   "execution_count": 2,
   "id": "280f96b2-b46f-4596-a426-7dd284c62f3e",
   "metadata": {},
   "outputs": [],
   "source": [
    "# Set the path to the images captured by the left and right cameras\n",
    "pathL = \"./right_calibration_images/\"\n",
    "pathR = \"./left_calibration_images/\"\n",
    " \n",
    "# Termination criteria for refining the detected corners\n",
    "criteria = (cv2.TERM_CRITERIA_EPS + cv2.TERM_CRITERIA_MAX_ITER, 30, 0.001)\n",
    " \n",
    " \n",
    "objp = np.zeros((7*5,3), np.float32)\n",
    "objp[:,:2] = np.mgrid[0:7,0:5].T.reshape(-1,2)\n",
    " \n",
    "img_ptsL = []\n",
    "img_ptsR = []\n",
    "obj_pts = []\n",
    "\n",
    "for i in range(1,26):\n",
    "    imgL = cv2.imread(pathL+\"cal_right_img_%d.png\"%i)\n",
    "    imgR = cv2.imread(pathR+\"cal_left_img_%d.png\"%i)\n",
    "    imgL_gray = cv2.imread(pathL+\"cal_right_img_%d.png\"%i,0)\n",
    "    imgR_gray = cv2.imread(pathR+\"cal_left_img_%d.png\"%i,0)\n",
    "     \n",
    "    outputL = imgL.copy()\n",
    "    outputR = imgR.copy()\n",
    "     \n",
    "    retR, cornersR =  cv2.findChessboardCorners(outputR,(7,5),None)\n",
    "    retL, cornersL = cv2.findChessboardCorners(outputL,(7,5),None)\n",
    " \n",
    "    if retR and retL:\n",
    "        obj_pts.append(objp)\n",
    "        cv2.cornerSubPix(imgR_gray,cornersR,(11,11),(-1,-1),criteria)\n",
    "        cv2.cornerSubPix(imgL_gray,cornersL,(11,11),(-1,-1),criteria)\n",
    "        cv2.drawChessboardCorners(outputR,(7,5),cornersR,retR)\n",
    "        cv2.drawChessboardCorners(outputL,(7,5),cornersL,retL)\n",
    "        cv2.imshow('cornersR',outputR)\n",
    "        cv2.imshow('cornersL',outputL)\n",
    "        cv2.waitKey(500)\n",
    "             \n",
    "        img_ptsL.append(cornersL)\n",
    "        img_ptsR.append(cornersR)\n",
    " \n",
    "cv2.destroyAllWindows() \n",
    "# Calibrating left camera\n",
    "retL, mtxL, distL, rvecsL, tvecsL = cv2.calibrateCamera(obj_pts,img_ptsL,imgL_gray.shape[::-1],None,None)\n",
    "hL,wL= imgL_gray.shape[:2]\n",
    "new_mtxL, roiL= cv2.getOptimalNewCameraMatrix(mtxL,distL,(wL,hL),1,(wL,hL))\n",
    " \n",
    "# Calibrating right camera\n",
    "retR, mtxR, distR, rvecsR, tvecsR = cv2.calibrateCamera(obj_pts,img_ptsR,imgR_gray.shape[::-1],None,None)\n",
    "hR,wR= imgR_gray.shape[:2]\n",
    "new_mtxR, roiR= cv2.getOptimalNewCameraMatrix(mtxR,distR,(wR,hR),1,(wR,hR))"
   ]
  },
  {
   "cell_type": "code",
   "execution_count": 9,
   "id": "35aaf078-f89d-4fe7-9169-bde9729f5604",
   "metadata": {},
   "outputs": [],
   "source": [
    "flags = 0\n",
    "flags |= cv2.CALIB_FIX_INTRINSIC \n",
    "flags |= cv2.CALIB_SAME_FOCAL_LENGTH\n",
    "# Here we fix the intrinsic camara matrixes so that only Rot, Trns, Emat and Fmat are calculated.\n",
    "# Hence intrinsic parameters are the same \n",
    " \n",
    "criteria_stereo= (cv2.TERM_CRITERIA_EPS + cv2.TERM_CRITERIA_MAX_ITER, 30, 0.001)\n",
    " \n",
    " \n",
    "# This step is performed to transformation between the two cameras and calculate Essential and Fundamenatl matrix\n",
    "retS, new_mtxL, distL, new_mtxR, distR, Rot, Trns, Emat, Fmat = cv2.stereoCalibrate(obj_pts, img_ptsL, img_ptsR, new_mtxL, distL, new_mtxR, distR, imgL_gray.shape[::-1], criteria_stereo, flags)\n"
   ]
  },
  {
   "cell_type": "code",
   "execution_count": 10,
   "id": "7731052a-d63d-46d5-acb2-683a2ca32c13",
   "metadata": {},
   "outputs": [],
   "source": [
    "rectify_scale= 1\n",
    "rect_l, rect_r, proj_mat_l, proj_mat_r, Q, roiL, roiR= cv2.stereoRectify(new_mtxL, distL, new_mtxR, distR, imgL_gray.shape[::-1], Rot, Trns, rectify_scale,(0,0))\n"
   ]
  },
  {
   "cell_type": "code",
   "execution_count": 11,
   "id": "62af7b81-7598-4df4-b227-ddfdf20360dc",
   "metadata": {},
   "outputs": [
    {
     "name": "stdout",
     "output_type": "stream",
     "text": [
      "Saving parameters......\n",
      "Done.\n"
     ]
    }
   ],
   "source": [
    "Left_Stereo_Map= cv2.initUndistortRectifyMap(new_mtxL, distL, rect_l, proj_mat_l,\n",
    "                                             imgL_gray.shape[::-1], cv2.CV_16SC2)\n",
    "Right_Stereo_Map= cv2.initUndistortRectifyMap(new_mtxR, distR, rect_r, proj_mat_r,\n",
    "                                              imgR_gray.shape[::-1], cv2.CV_16SC2)\n",
    " \n",
    "print(\"Saving parameters......\")\n",
    "cv_file = cv2.FileStorage(\"improved_params2.xml\", cv2.FILE_STORAGE_WRITE)\n",
    "cv_file.write(\"Left_Stereo_Map_x\",Left_Stereo_Map[0])\n",
    "cv_file.write(\"Left_Stereo_Map_y\",Left_Stereo_Map[1])\n",
    "cv_file.write(\"Right_Stereo_Map_x\",Right_Stereo_Map[0])\n",
    "cv_file.write(\"Right_Stereo_Map_y\",Right_Stereo_Map[1])\n",
    "cv_file.release()\n",
    "print(\"Done.\")"
   ]
  },
  {
   "cell_type": "code",
   "execution_count": 12,
   "id": "367cc16c-405d-42a1-b408-09299be87862",
   "metadata": {},
   "outputs": [],
   "source": [
    "cv2.imshow(\"Left image before rectification\", imgL)\n",
    "cv2.imshow(\"Right image before rectification\", imgR)\n",
    " \n",
    "Left_nice= cv2.remap(imgL,Left_Stereo_Map[0],Left_Stereo_Map[1], cv2.INTER_LANCZOS4, cv2.BORDER_CONSTANT, 0)\n",
    "Right_nice= cv2.remap(imgR,Right_Stereo_Map[0],Right_Stereo_Map[1], cv2.INTER_LANCZOS4, cv2.BORDER_CONSTANT, 0)\n",
    " \n",
    "cv2.imshow(\"Left image after rectification\", Left_nice)\n",
    "cv2.imshow(\"Right image after rectification\", Right_nice)\n",
    "cv2.waitKey(0)\n",
    " \n",
    "out = Right_nice.copy()\n",
    "out[:,:,0] = Right_nice[:,:,0]\n",
    "out[:,:,1] = Right_nice[:,:,1]\n",
    "out[:,:,2] = Left_nice[:,:,2]\n",
    " \n",
    "cv2.imshow(\"Output image\", out)\n",
    "cv2.waitKey(0)\n",
    "cv2.destroyAllWindows()"
   ]
  },
  {
   "cell_type": "code",
   "execution_count": 8,
   "id": "636bc39a-6a40-4fd2-b644-81cabf8e95e1",
   "metadata": {},
   "outputs": [
    {
     "data": {
      "text/plain": [
       "(array([[[   231,    262],\n",
       "         [   230,    262],\n",
       "         [   229,    263],\n",
       "         ...,\n",
       "         [    93,    182],\n",
       "         [    94,    179],\n",
       "         [    96,    177]],\n",
       " \n",
       "        [[   231,    262],\n",
       "         [   230,    263],\n",
       "         [   230,    263],\n",
       "         ...,\n",
       "         [    96,    177],\n",
       "         [    98,    174],\n",
       "         [   100,    172]],\n",
       " \n",
       "        [[   231,    263],\n",
       "         [   230,    263],\n",
       "         [   230,    263],\n",
       "         ...,\n",
       "         [   100,    172],\n",
       "         [   102,    169],\n",
       "         [   104,    167]],\n",
       " \n",
       "        ...,\n",
       " \n",
       "        [[ 32767,  32767],\n",
       "         [ 32767,  32767],\n",
       "         [ 32767,  32767],\n",
       "         ...,\n",
       "         [-20298,  23450],\n",
       "         [-20683,  23765],\n",
       "         [-21075,  24084]],\n",
       " \n",
       "        [[ 32767,  32767],\n",
       "         [ 32767,  32767],\n",
       "         [ 31933,  32767],\n",
       "         ...,\n",
       "         [-18197,  21041],\n",
       "         [-18546,  21327],\n",
       "         [-18901,  21616]],\n",
       " \n",
       "        [[ 29808,  32767],\n",
       "         [ 28873,  32767],\n",
       "         [ 27966,  32767],\n",
       "         ...,\n",
       "         [-16328,  18899],\n",
       "         [-16644,  19158],\n",
       "         [-16966,  19421]]], dtype=int16),\n",
       " array([[ 737, 1007,  254, ...,  261,  951,  555],\n",
       "        [ 903,  181,  420, ...,  477, 1011,  459],\n",
       "        [  77,  347,  586, ...,  317,  727,   51],\n",
       "        ...,\n",
       "        [ 284,  897,  706, ...,  477,  522,  649],\n",
       "        [ 587,  458,  202, ...,  548,  360,  849],\n",
       "        [ 892,  744,  847, ...,   64,  547,  410]], dtype=uint16))"
      ]
     },
     "execution_count": 8,
     "metadata": {},
     "output_type": "execute_result"
    }
   ],
   "source": [
    "Left_Stereo_Map"
   ]
  },
  {
   "cell_type": "code",
   "execution_count": null,
   "id": "b08e9a48-9e6a-4190-838d-3e576bfb4cc9",
   "metadata": {},
   "outputs": [],
   "source": []
  }
 ],
 "metadata": {
  "kernelspec": {
   "display_name": "Python 3 (ipykernel)",
   "language": "python",
   "name": "python3"
  },
  "language_info": {
   "codemirror_mode": {
    "name": "ipython",
    "version": 3
   },
   "file_extension": ".py",
   "mimetype": "text/x-python",
   "name": "python",
   "nbconvert_exporter": "python",
   "pygments_lexer": "ipython3",
   "version": "3.12.5"
  }
 },
 "nbformat": 4,
 "nbformat_minor": 5
}
